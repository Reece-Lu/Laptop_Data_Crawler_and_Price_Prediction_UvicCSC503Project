{
  "nbformat": 4,
  "nbformat_minor": 0,
  "metadata": {
    "colab": {
      "provenance": [],
      "include_colab_link": true
    },
    "kernelspec": {
      "name": "python3",
      "display_name": "Python 3"
    },
    "language_info": {
      "name": "python"
    }
  },
  "cells": [
    {
      "cell_type": "markdown",
      "metadata": {
        "id": "view-in-github",
        "colab_type": "text"
      },
      "source": [
        "<a href=\"https://colab.research.google.com/github/Reece-Lu/Laptop_Data_Crawler_and_Price_Prediction_UvicCSC503Project/blob/data_clean%26machine_learining/CSC503ProjectComputerPricePrediction.ipynb\" target=\"_parent\"><img src=\"https://colab.research.google.com/assets/colab-badge.svg\" alt=\"Open In Colab\"/></a>"
      ]
    },
    {
      "cell_type": "markdown",
      "source": [
        "# CSC503 Data Mining: Analyzing Computer Configurations and Prices\n",
        "\n",
        "- Chengze Hao V01010253\n",
        "- Yuwen Lu V01022209\n",
        "\n",
        "https://github.com/Reece-Lu/Laptop_Data_Crawler_and_Price_Prediction_UvicCSC503Project"
      ],
      "metadata": {
        "id": "vj8i06kSf7PN"
      }
    },
    {
      "cell_type": "code",
      "source": [
        "from IPython.display import Image\n",
        "import warnings\n",
        "warnings.filterwarnings(\"ignore\")"
      ],
      "metadata": {
        "id": "GOTaWc-TgEm0"
      },
      "execution_count": null,
      "outputs": []
    },
    {
      "cell_type": "markdown",
      "source": [
        "## Section 1: Laptop Data Crawler.\n",
        "\n",
        "In this section, we will discuss the development of a laptop data crawler with **scrapy**. The crawler, built using web scraping techniques and Python programming, will automatically collect laptop information from various retailer websites. It will extract specifications like processor, memory, storage, graphics card, and prices.\n",
        "\n",
        "To ensure data accuracy, the crawler will handle dynamic web pages and errors effectively. The collected data will be cleaned and preprocessed to address inconsistencies, missing values, and outliers.\n",
        "\n",
        "\n",
        "### Introduction to the website being crawled.\n",
        "The website being crawled is [**Smartprix.com**](https://www.smartprix.com/laptops). It is an online platform that provides comprehensive information on various electronic products, including laptops. Users can browse through laptop models, compare their specifications and prices, and read user reviews and ratings. The data crawler collects laptop data from Smartprix.com, which is utilized for further analysis and insights into the laptop market.\n"
      ],
      "metadata": {
        "id": "ibdKjxU5gFub"
      }
    },
    {
      "cell_type": "markdown",
      "source": [
        "### Choosing the Data to be crawled on Smartprix\n",
        "\n",
        "Taking the webpage of https://www.smartprix.com/laptops/hp-pavilion-15-eg3081tu-laptop-13th-gen-core-ppd19cikb8j4 as an example, we extract and crawl the data of the laptop's price, group rank, overall rank, and the detailed configuration information, and add it to our dataset."
      ],
      "metadata": {
        "id": "BxAgcP_-gN5j"
      }
    },
    {
      "cell_type": "code",
      "source": [
        "Image(filename='/content/CleanShot 2023-06-26 at 17.46.20@2x.png',height=400)"
      ],
      "metadata": {
        "colab": {
          "base_uri": "https://localhost:8080/",
          "height": 311
        },
        "id": "zFuTNjHGgVQY",
        "outputId": "a9a114d4-a69c-4670-9609-6a5588f94957"
      },
      "execution_count": null,
      "outputs": [
        {
          "output_type": "error",
          "ename": "FileNotFoundError",
          "evalue": "ignored",
          "traceback": [
            "\u001b[0;31m---------------------------------------------------------------------------\u001b[0m",
            "\u001b[0;31mFileNotFoundError\u001b[0m                         Traceback (most recent call last)",
            "\u001b[0;32m<ipython-input-8-25b81d3c4809>\u001b[0m in \u001b[0;36m<cell line: 1>\u001b[0;34m()\u001b[0m\n\u001b[0;32m----> 1\u001b[0;31m \u001b[0mImage\u001b[0m\u001b[0;34m(\u001b[0m\u001b[0mfilename\u001b[0m\u001b[0;34m=\u001b[0m\u001b[0;34m'/content/CleanShot 2023-06-26 at 17.46.20@2x.png'\u001b[0m\u001b[0;34m,\u001b[0m\u001b[0mheight\u001b[0m\u001b[0;34m=\u001b[0m\u001b[0;36m400\u001b[0m\u001b[0;34m)\u001b[0m\u001b[0;34m\u001b[0m\u001b[0;34m\u001b[0m\u001b[0m\n\u001b[0m",
            "\u001b[0;32m/usr/local/lib/python3.10/dist-packages/IPython/core/display.py\u001b[0m in \u001b[0;36m__init__\u001b[0;34m(self, data, url, filename, format, embed, width, height, retina, unconfined, metadata)\u001b[0m\n\u001b[1;32m   1229\u001b[0m         \u001b[0mself\u001b[0m\u001b[0;34m.\u001b[0m\u001b[0mretina\u001b[0m \u001b[0;34m=\u001b[0m \u001b[0mretina\u001b[0m\u001b[0;34m\u001b[0m\u001b[0;34m\u001b[0m\u001b[0m\n\u001b[1;32m   1230\u001b[0m         \u001b[0mself\u001b[0m\u001b[0;34m.\u001b[0m\u001b[0munconfined\u001b[0m \u001b[0;34m=\u001b[0m \u001b[0munconfined\u001b[0m\u001b[0;34m\u001b[0m\u001b[0;34m\u001b[0m\u001b[0m\n\u001b[0;32m-> 1231\u001b[0;31m         super(Image, self).__init__(data=data, url=url, filename=filename, \n\u001b[0m\u001b[1;32m   1232\u001b[0m                 metadata=metadata)\n\u001b[1;32m   1233\u001b[0m \u001b[0;34m\u001b[0m\u001b[0m\n",
            "\u001b[0;32m/usr/local/lib/python3.10/dist-packages/IPython/core/display.py\u001b[0m in \u001b[0;36m__init__\u001b[0;34m(self, data, url, filename, metadata)\u001b[0m\n\u001b[1;32m    635\u001b[0m             \u001b[0mself\u001b[0m\u001b[0;34m.\u001b[0m\u001b[0mmetadata\u001b[0m \u001b[0;34m=\u001b[0m \u001b[0;34m{\u001b[0m\u001b[0;34m}\u001b[0m\u001b[0;34m\u001b[0m\u001b[0;34m\u001b[0m\u001b[0m\n\u001b[1;32m    636\u001b[0m \u001b[0;34m\u001b[0m\u001b[0m\n\u001b[0;32m--> 637\u001b[0;31m         \u001b[0mself\u001b[0m\u001b[0;34m.\u001b[0m\u001b[0mreload\u001b[0m\u001b[0;34m(\u001b[0m\u001b[0;34m)\u001b[0m\u001b[0;34m\u001b[0m\u001b[0;34m\u001b[0m\u001b[0m\n\u001b[0m\u001b[1;32m    638\u001b[0m         \u001b[0mself\u001b[0m\u001b[0;34m.\u001b[0m\u001b[0m_check_data\u001b[0m\u001b[0;34m(\u001b[0m\u001b[0;34m)\u001b[0m\u001b[0;34m\u001b[0m\u001b[0;34m\u001b[0m\u001b[0m\n\u001b[1;32m    639\u001b[0m \u001b[0;34m\u001b[0m\u001b[0m\n",
            "\u001b[0;32m/usr/local/lib/python3.10/dist-packages/IPython/core/display.py\u001b[0m in \u001b[0;36mreload\u001b[0;34m(self)\u001b[0m\n\u001b[1;32m   1261\u001b[0m         \u001b[0;34m\"\"\"Reload the raw data from file or URL.\"\"\"\u001b[0m\u001b[0;34m\u001b[0m\u001b[0;34m\u001b[0m\u001b[0m\n\u001b[1;32m   1262\u001b[0m         \u001b[0;32mif\u001b[0m \u001b[0mself\u001b[0m\u001b[0;34m.\u001b[0m\u001b[0membed\u001b[0m\u001b[0;34m:\u001b[0m\u001b[0;34m\u001b[0m\u001b[0;34m\u001b[0m\u001b[0m\n\u001b[0;32m-> 1263\u001b[0;31m             \u001b[0msuper\u001b[0m\u001b[0;34m(\u001b[0m\u001b[0mImage\u001b[0m\u001b[0;34m,\u001b[0m\u001b[0mself\u001b[0m\u001b[0;34m)\u001b[0m\u001b[0;34m.\u001b[0m\u001b[0mreload\u001b[0m\u001b[0;34m(\u001b[0m\u001b[0;34m)\u001b[0m\u001b[0;34m\u001b[0m\u001b[0;34m\u001b[0m\u001b[0m\n\u001b[0m\u001b[1;32m   1264\u001b[0m             \u001b[0;32mif\u001b[0m \u001b[0mself\u001b[0m\u001b[0;34m.\u001b[0m\u001b[0mretina\u001b[0m\u001b[0;34m:\u001b[0m\u001b[0;34m\u001b[0m\u001b[0;34m\u001b[0m\u001b[0m\n\u001b[1;32m   1265\u001b[0m                 \u001b[0mself\u001b[0m\u001b[0;34m.\u001b[0m\u001b[0m_retina_shape\u001b[0m\u001b[0;34m(\u001b[0m\u001b[0;34m)\u001b[0m\u001b[0;34m\u001b[0m\u001b[0;34m\u001b[0m\u001b[0m\n",
            "\u001b[0;32m/usr/local/lib/python3.10/dist-packages/IPython/core/display.py\u001b[0m in \u001b[0;36mreload\u001b[0;34m(self)\u001b[0m\n\u001b[1;32m    660\u001b[0m         \u001b[0;34m\"\"\"Reload the raw data from file or URL.\"\"\"\u001b[0m\u001b[0;34m\u001b[0m\u001b[0;34m\u001b[0m\u001b[0m\n\u001b[1;32m    661\u001b[0m         \u001b[0;32mif\u001b[0m \u001b[0mself\u001b[0m\u001b[0;34m.\u001b[0m\u001b[0mfilename\u001b[0m \u001b[0;32mis\u001b[0m \u001b[0;32mnot\u001b[0m \u001b[0;32mNone\u001b[0m\u001b[0;34m:\u001b[0m\u001b[0;34m\u001b[0m\u001b[0;34m\u001b[0m\u001b[0m\n\u001b[0;32m--> 662\u001b[0;31m             \u001b[0;32mwith\u001b[0m \u001b[0mopen\u001b[0m\u001b[0;34m(\u001b[0m\u001b[0mself\u001b[0m\u001b[0;34m.\u001b[0m\u001b[0mfilename\u001b[0m\u001b[0;34m,\u001b[0m \u001b[0mself\u001b[0m\u001b[0;34m.\u001b[0m\u001b[0m_read_flags\u001b[0m\u001b[0;34m)\u001b[0m \u001b[0;32mas\u001b[0m \u001b[0mf\u001b[0m\u001b[0;34m:\u001b[0m\u001b[0;34m\u001b[0m\u001b[0;34m\u001b[0m\u001b[0m\n\u001b[0m\u001b[1;32m    663\u001b[0m                 \u001b[0mself\u001b[0m\u001b[0;34m.\u001b[0m\u001b[0mdata\u001b[0m \u001b[0;34m=\u001b[0m \u001b[0mf\u001b[0m\u001b[0;34m.\u001b[0m\u001b[0mread\u001b[0m\u001b[0;34m(\u001b[0m\u001b[0;34m)\u001b[0m\u001b[0;34m\u001b[0m\u001b[0;34m\u001b[0m\u001b[0m\n\u001b[1;32m    664\u001b[0m         \u001b[0;32melif\u001b[0m \u001b[0mself\u001b[0m\u001b[0;34m.\u001b[0m\u001b[0murl\u001b[0m \u001b[0;32mis\u001b[0m \u001b[0;32mnot\u001b[0m \u001b[0;32mNone\u001b[0m\u001b[0;34m:\u001b[0m\u001b[0;34m\u001b[0m\u001b[0;34m\u001b[0m\u001b[0m\n",
            "\u001b[0;31mFileNotFoundError\u001b[0m: [Errno 2] No such file or directory: '/content/CleanShot 2023-06-26 at 17.46.20@2x.png'"
          ]
        }
      ]
    },
    {
      "cell_type": "code",
      "source": [
        "Image(filename='/content/CleanShot 2023-06-26 at 17.46.42@2x.png',height=400)"
      ],
      "metadata": {
        "id": "i4XuaDU9gc9V"
      },
      "execution_count": null,
      "outputs": []
    },
    {
      "cell_type": "markdown",
      "source": [
        "### The implementation of the Data Crawler\n",
        "\n",
        "Link of the code:\n",
        "https://github.com/Reece-Lu/Laptop_Data_Crawler_and_Price_Prediction_UvicCSC503Project/blob/master/csc503project/spiders/crawling_spider.py\n",
        "\n",
        "**Allowed domains:**\n",
        "\n",
        "``` python\n",
        "allowed_domains = [\"smartprix.com\"]\n",
        "```\n",
        "In this code, we set the allowed_domains to specify the domain we are allowed to crawl. In this example, we only allow crawling of pages under the smartprix.com domain. This ensures that the crawler only retrieves data from within that domain and does not navigate to pages from other domains.\n",
        "\n",
        "**Explanation of Rule:**\n",
        "``` python\n",
        "rules = (\n",
        "    Rule(LinkExtractor(allow=(r'laptops/(.*-.*-.*-.*)'),\n",
        "                       deny=(r'brand', r'compare', r'list')),\n",
        "         callback='parse_item',\n",
        "         follow=True),\n",
        ")\n",
        "```\n",
        "Here, we define a Rule to specify how the spider should follow and parse links. The Rule consists of a LinkExtractor and other parameters.\n",
        "\n",
        "- The LinkExtractor is used to define which links should be followed by the spider. In this example, we use a regular expression `laptops/(.*-.*-.*-.*)` to match links with a specific format. Additionally, we use the deny parameter to exclude certain links, such as those containing \"brand\", \"compare\", or \"list\".\n",
        "\n",
        "- The callback parameter specifies which method should be called to parse the response after following a link. In this case, we use the parse_item method for parsing.\n",
        "\n",
        "- The follow parameter indicates whether the spider should continue following links extracted from the current page. Here, we set it to True to ensure that links are followed and related pages are crawled.\n",
        "\n",
        "**Explanation of parse_item:**\n",
        "\n",
        "```python\n",
        "def parse_item(self, response):\n",
        "    # Get the page link\n",
        "    link = response.url\n",
        "\n",
        "    # Extract data\n",
        "    rating = response.xpath('//div[@class=\"pg-prd-rating\"]').get()\n",
        "    pricewrap = response.xpath('//div[@class=\"pg-prd-pricewrap\"]/div[@class=\"price\"]/text()').get()\n",
        "    s_score = response.xpath('//div[@class=\"pg-prd-s-score\"]').get()\n",
        "    quick_specs = response.xpath('//div[@class=\"sm-fullspecs-grp\"]').getall()\n",
        "    sm_box = response.xpath('//div[@class=\"sm-box\"]').get()\n",
        "\n",
        "    # Save data to CSV file\n",
        "    item = {\n",
        "        'link': link,\n",
        "        'rating': rating,\n",
        "        'pricewrap': pricewrap,\n",
        "        's_score': s_score,\n",
        "        'quick_specs': quick_specs,\n",
        "        'sm_box': sm_box,\n",
        "    }\n",
        "\n",
        "    print(item)\n",
        "    yield item\n",
        "\n",
        "```\n",
        "\n",
        "The parse_item method is a callback function used to parse the page content. In this example, we use XPath selectors to extract data from the page. Specifically:\n",
        "\n",
        "- The **link** variable stores the link of the current page.\n",
        "- The **rating** variable uses an XPath selector to extract the content of the `<div>` element with class=\"pg-prd-rating\".\n",
        "- The **pricewrap** variable uses an XPath selector to extract the text content of the `<div class=\"pg-prd-pricewrap\">` element's child `<div class=\"price\">`.\n",
        "- The **s_score** variable uses an XPath selector to extract the content of the `<div>` element with class=\"pg-prd-s-score\".\n",
        "- The **quick_specs** variable uses an XPath selector to extract the content of all `<div>` elements with class=\"sm-fullspecs-grp\".\n",
        "- The **sm_box** variable uses an XPath selector to extract the content of the `<div>` element with class=\"sm-box\".\n",
        "\n",
        "\n",
        "The extracted data is then stored in the item dictionary, and yield item is used to return the item for further processing and storage.\n",
        "\n",
        "\n",
        "**Explanation of CSVWriterPipeline:**\n",
        "\n",
        "```python\n",
        "class CSVWriterPipeline:\n",
        "    def open_spider(self, spider):\n",
        "        self.file = open('data.csv', 'w', newline='')\n",
        "        self.writer = csv.DictWriter(self.file, fieldnames=['link', 'rating', 'pricewrap', 's_score', 'quick_specs', 'sm_box'])\n",
        "        self.writer.writeheader()\n",
        "\n",
        "    def close_spider(self, spider):\n",
        "        self.file.close()\n",
        "\n",
        "    def process_item(self, item, spider):\n",
        "        self.writer.writerow(item)\n",
        "        return item\n",
        "```\n",
        "\n",
        "`CSVWriterPipeline` is a custom pipeline used to save the extracted data to a CSV file. In this example, the following methods are implemented:\n",
        "\n",
        "The `open_spider` method is called when the spider starts and is used to open the CSV file and create a DictWriter object for writing the data. We also write the header of the CSV file using `writer.writeheader()`.\n",
        "\n",
        "The `close_spider` method is called when the spider finishes and is used to close the CSV file.\n",
        "\n",
        "The `process_item` method is used to process each item passed from the spider. Here, we use `writer.writerow(item)` to write each item to the CSV file. Finally, we return item to continue passing it to subsequent pipelines or processing methods."
      ],
      "metadata": {
        "id": "3UrWdkCtgdfd"
      }
    },
    {
      "cell_type": "markdown",
      "source": [
        "### The result of Data Crawler\n",
        "The link to the row data :\n",
        "https://drive.google.com/file/d/1fMwEWie3xGfXoDAxHPfvD_tpOvffYaKW/view?usp=sharing\n",
        "\n",
        "This table contains numerous HTML tags, so cleaning the data is a necessary step.\n"
      ],
      "metadata": {
        "id": "143zxSjdiSAc"
      }
    },
    {
      "cell_type": "code",
      "source": [
        "Image(filename='/content/CleanShot 2023-06-26 at 23.13.10@2x.png',height=600)"
      ],
      "metadata": {
        "id": "Dn7GN-OQiWAV",
        "colab": {
          "base_uri": "https://localhost:8080/",
          "height": 311
        },
        "outputId": "015f4fbb-7052-44f6-f407-8dcf2066773a"
      },
      "execution_count": null,
      "outputs": [
        {
          "output_type": "error",
          "ename": "FileNotFoundError",
          "evalue": "ignored",
          "traceback": [
            "\u001b[0;31m---------------------------------------------------------------------------\u001b[0m",
            "\u001b[0;31mFileNotFoundError\u001b[0m                         Traceback (most recent call last)",
            "\u001b[0;32m<ipython-input-9-2d99dd0c3788>\u001b[0m in \u001b[0;36m<cell line: 1>\u001b[0;34m()\u001b[0m\n\u001b[0;32m----> 1\u001b[0;31m \u001b[0mImage\u001b[0m\u001b[0;34m(\u001b[0m\u001b[0mfilename\u001b[0m\u001b[0;34m=\u001b[0m\u001b[0;34m'/content/CleanShot 2023-06-26 at 23.13.10@2x.png'\u001b[0m\u001b[0;34m,\u001b[0m\u001b[0mheight\u001b[0m\u001b[0;34m=\u001b[0m\u001b[0;36m600\u001b[0m\u001b[0;34m)\u001b[0m\u001b[0;34m\u001b[0m\u001b[0;34m\u001b[0m\u001b[0m\n\u001b[0m",
            "\u001b[0;32m/usr/local/lib/python3.10/dist-packages/IPython/core/display.py\u001b[0m in \u001b[0;36m__init__\u001b[0;34m(self, data, url, filename, format, embed, width, height, retina, unconfined, metadata)\u001b[0m\n\u001b[1;32m   1229\u001b[0m         \u001b[0mself\u001b[0m\u001b[0;34m.\u001b[0m\u001b[0mretina\u001b[0m \u001b[0;34m=\u001b[0m \u001b[0mretina\u001b[0m\u001b[0;34m\u001b[0m\u001b[0;34m\u001b[0m\u001b[0m\n\u001b[1;32m   1230\u001b[0m         \u001b[0mself\u001b[0m\u001b[0;34m.\u001b[0m\u001b[0munconfined\u001b[0m \u001b[0;34m=\u001b[0m \u001b[0munconfined\u001b[0m\u001b[0;34m\u001b[0m\u001b[0;34m\u001b[0m\u001b[0m\n\u001b[0;32m-> 1231\u001b[0;31m         super(Image, self).__init__(data=data, url=url, filename=filename, \n\u001b[0m\u001b[1;32m   1232\u001b[0m                 metadata=metadata)\n\u001b[1;32m   1233\u001b[0m \u001b[0;34m\u001b[0m\u001b[0m\n",
            "\u001b[0;32m/usr/local/lib/python3.10/dist-packages/IPython/core/display.py\u001b[0m in \u001b[0;36m__init__\u001b[0;34m(self, data, url, filename, metadata)\u001b[0m\n\u001b[1;32m    635\u001b[0m             \u001b[0mself\u001b[0m\u001b[0;34m.\u001b[0m\u001b[0mmetadata\u001b[0m \u001b[0;34m=\u001b[0m \u001b[0;34m{\u001b[0m\u001b[0;34m}\u001b[0m\u001b[0;34m\u001b[0m\u001b[0;34m\u001b[0m\u001b[0m\n\u001b[1;32m    636\u001b[0m \u001b[0;34m\u001b[0m\u001b[0m\n\u001b[0;32m--> 637\u001b[0;31m         \u001b[0mself\u001b[0m\u001b[0;34m.\u001b[0m\u001b[0mreload\u001b[0m\u001b[0;34m(\u001b[0m\u001b[0;34m)\u001b[0m\u001b[0;34m\u001b[0m\u001b[0;34m\u001b[0m\u001b[0m\n\u001b[0m\u001b[1;32m    638\u001b[0m         \u001b[0mself\u001b[0m\u001b[0;34m.\u001b[0m\u001b[0m_check_data\u001b[0m\u001b[0;34m(\u001b[0m\u001b[0;34m)\u001b[0m\u001b[0;34m\u001b[0m\u001b[0;34m\u001b[0m\u001b[0m\n\u001b[1;32m    639\u001b[0m \u001b[0;34m\u001b[0m\u001b[0m\n",
            "\u001b[0;32m/usr/local/lib/python3.10/dist-packages/IPython/core/display.py\u001b[0m in \u001b[0;36mreload\u001b[0;34m(self)\u001b[0m\n\u001b[1;32m   1261\u001b[0m         \u001b[0;34m\"\"\"Reload the raw data from file or URL.\"\"\"\u001b[0m\u001b[0;34m\u001b[0m\u001b[0;34m\u001b[0m\u001b[0m\n\u001b[1;32m   1262\u001b[0m         \u001b[0;32mif\u001b[0m \u001b[0mself\u001b[0m\u001b[0;34m.\u001b[0m\u001b[0membed\u001b[0m\u001b[0;34m:\u001b[0m\u001b[0;34m\u001b[0m\u001b[0;34m\u001b[0m\u001b[0m\n\u001b[0;32m-> 1263\u001b[0;31m             \u001b[0msuper\u001b[0m\u001b[0;34m(\u001b[0m\u001b[0mImage\u001b[0m\u001b[0;34m,\u001b[0m\u001b[0mself\u001b[0m\u001b[0;34m)\u001b[0m\u001b[0;34m.\u001b[0m\u001b[0mreload\u001b[0m\u001b[0;34m(\u001b[0m\u001b[0;34m)\u001b[0m\u001b[0;34m\u001b[0m\u001b[0;34m\u001b[0m\u001b[0m\n\u001b[0m\u001b[1;32m   1264\u001b[0m             \u001b[0;32mif\u001b[0m \u001b[0mself\u001b[0m\u001b[0;34m.\u001b[0m\u001b[0mretina\u001b[0m\u001b[0;34m:\u001b[0m\u001b[0;34m\u001b[0m\u001b[0;34m\u001b[0m\u001b[0m\n\u001b[1;32m   1265\u001b[0m                 \u001b[0mself\u001b[0m\u001b[0;34m.\u001b[0m\u001b[0m_retina_shape\u001b[0m\u001b[0;34m(\u001b[0m\u001b[0;34m)\u001b[0m\u001b[0;34m\u001b[0m\u001b[0;34m\u001b[0m\u001b[0m\n",
            "\u001b[0;32m/usr/local/lib/python3.10/dist-packages/IPython/core/display.py\u001b[0m in \u001b[0;36mreload\u001b[0;34m(self)\u001b[0m\n\u001b[1;32m    660\u001b[0m         \u001b[0;34m\"\"\"Reload the raw data from file or URL.\"\"\"\u001b[0m\u001b[0;34m\u001b[0m\u001b[0;34m\u001b[0m\u001b[0m\n\u001b[1;32m    661\u001b[0m         \u001b[0;32mif\u001b[0m \u001b[0mself\u001b[0m\u001b[0;34m.\u001b[0m\u001b[0mfilename\u001b[0m \u001b[0;32mis\u001b[0m \u001b[0;32mnot\u001b[0m \u001b[0;32mNone\u001b[0m\u001b[0;34m:\u001b[0m\u001b[0;34m\u001b[0m\u001b[0;34m\u001b[0m\u001b[0m\n\u001b[0;32m--> 662\u001b[0;31m             \u001b[0;32mwith\u001b[0m \u001b[0mopen\u001b[0m\u001b[0;34m(\u001b[0m\u001b[0mself\u001b[0m\u001b[0;34m.\u001b[0m\u001b[0mfilename\u001b[0m\u001b[0;34m,\u001b[0m \u001b[0mself\u001b[0m\u001b[0;34m.\u001b[0m\u001b[0m_read_flags\u001b[0m\u001b[0;34m)\u001b[0m \u001b[0;32mas\u001b[0m \u001b[0mf\u001b[0m\u001b[0;34m:\u001b[0m\u001b[0;34m\u001b[0m\u001b[0;34m\u001b[0m\u001b[0m\n\u001b[0m\u001b[1;32m    663\u001b[0m                 \u001b[0mself\u001b[0m\u001b[0;34m.\u001b[0m\u001b[0mdata\u001b[0m \u001b[0;34m=\u001b[0m \u001b[0mf\u001b[0m\u001b[0;34m.\u001b[0m\u001b[0mread\u001b[0m\u001b[0;34m(\u001b[0m\u001b[0;34m)\u001b[0m\u001b[0;34m\u001b[0m\u001b[0;34m\u001b[0m\u001b[0m\n\u001b[1;32m    664\u001b[0m         \u001b[0;32melif\u001b[0m \u001b[0mself\u001b[0m\u001b[0;34m.\u001b[0m\u001b[0murl\u001b[0m \u001b[0;32mis\u001b[0m \u001b[0;32mnot\u001b[0m \u001b[0;32mNone\u001b[0m\u001b[0;34m:\u001b[0m\u001b[0;34m\u001b[0m\u001b[0;34m\u001b[0m\u001b[0m\n",
            "\u001b[0;31mFileNotFoundError\u001b[0m: [Errno 2] No such file or directory: '/content/CleanShot 2023-06-26 at 23.13.10@2x.png'"
          ]
        }
      ]
    },
    {
      "cell_type": "markdown",
      "source": [
        "-------"
      ],
      "metadata": {
        "id": "PLKidsKmiWrY"
      }
    },
    {
      "cell_type": "markdown",
      "source": [
        "## Section 2: Row Data cleaning"
      ],
      "metadata": {
        "id": "jhUacHFhiZMC"
      }
    },
    {
      "cell_type": "code",
      "execution_count": null,
      "metadata": {
        "id": "w-4VX4soaHj-",
        "colab": {
          "base_uri": "https://localhost:8080/"
        },
        "outputId": "52ef0593-defa-421a-d530-17e663bbebef"
      },
      "outputs": [
        {
          "output_type": "execute_result",
          "data": {
            "text/plain": [
              "11145"
            ]
          },
          "metadata": {},
          "execution_count": 19
        }
      ],
      "source": [
        "import pandas as pd\n",
        "\n",
        "df = pd.read_csv('/content/laptop_price_raw.csv')\n",
        "\n",
        "df.size"
      ]
    },
    {
      "cell_type": "markdown",
      "source": [
        "Directly delete the rows which have empty values, because our dataset do not lake samples."
      ],
      "metadata": {
        "id": "qlYxIevcee6C"
      }
    },
    {
      "cell_type": "code",
      "source": [
        "df.dropna(inplace=True)\n",
        "df.describe()"
      ],
      "metadata": {
        "id": "8yRM3AoKeazD",
        "colab": {
          "base_uri": "https://localhost:8080/",
          "height": 288
        },
        "outputId": "f5c1b5d7-7dba-43d7-a11c-4f8a854d382a"
      },
      "execution_count": null,
      "outputs": [
        {
          "output_type": "execute_result",
          "data": {
            "text/plain": [
              "                                                     link  \\\n",
              "count                                                2224   \n",
              "unique                                               2224   \n",
              "top     https://www.smartprix.com/laptops/hp-victus-16...   \n",
              "freq                                                    1   \n",
              "\n",
              "                                                   Rating    Price  \\\n",
              "count                                                2224     2224   \n",
              "unique                                               1785     1055   \n",
              "top     <div class=\"pg-prd-rating\"><span class=\"sm-rat...  ₹59,990   \n",
              "freq                                                    6       36   \n",
              "\n",
              "                                                    Score  \\\n",
              "count                                                2224   \n",
              "unique                                               2099   \n",
              "top     <div class=\"pg-prd-s-score\"><div class=\"score ...   \n",
              "freq                                                    5   \n",
              "\n",
              "                                                    Specs  \n",
              "count                                                2224  \n",
              "unique                                               2219  \n",
              "top     ['<div class=\"sm-fullspecs-grp\"><div class=\"ti...  \n",
              "freq                                                    3  "
            ],
            "text/html": [
              "\n",
              "  <div id=\"df-bd360cf5-b2b6-4f08-8d67-c42e664be6cb\">\n",
              "    <div class=\"colab-df-container\">\n",
              "      <div>\n",
              "<style scoped>\n",
              "    .dataframe tbody tr th:only-of-type {\n",
              "        vertical-align: middle;\n",
              "    }\n",
              "\n",
              "    .dataframe tbody tr th {\n",
              "        vertical-align: top;\n",
              "    }\n",
              "\n",
              "    .dataframe thead th {\n",
              "        text-align: right;\n",
              "    }\n",
              "</style>\n",
              "<table border=\"1\" class=\"dataframe\">\n",
              "  <thead>\n",
              "    <tr style=\"text-align: right;\">\n",
              "      <th></th>\n",
              "      <th>link</th>\n",
              "      <th>Rating</th>\n",
              "      <th>Price</th>\n",
              "      <th>Score</th>\n",
              "      <th>Specs</th>\n",
              "    </tr>\n",
              "  </thead>\n",
              "  <tbody>\n",
              "    <tr>\n",
              "      <th>count</th>\n",
              "      <td>2224</td>\n",
              "      <td>2224</td>\n",
              "      <td>2224</td>\n",
              "      <td>2224</td>\n",
              "      <td>2224</td>\n",
              "    </tr>\n",
              "    <tr>\n",
              "      <th>unique</th>\n",
              "      <td>2224</td>\n",
              "      <td>1785</td>\n",
              "      <td>1055</td>\n",
              "      <td>2099</td>\n",
              "      <td>2219</td>\n",
              "    </tr>\n",
              "    <tr>\n",
              "      <th>top</th>\n",
              "      <td>https://www.smartprix.com/laptops/hp-victus-16...</td>\n",
              "      <td>&lt;div class=\"pg-prd-rating\"&gt;&lt;span class=\"sm-rat...</td>\n",
              "      <td>₹59,990</td>\n",
              "      <td>&lt;div class=\"pg-prd-s-score\"&gt;&lt;div class=\"score ...</td>\n",
              "      <td>['&lt;div class=\"sm-fullspecs-grp\"&gt;&lt;div class=\"ti...</td>\n",
              "    </tr>\n",
              "    <tr>\n",
              "      <th>freq</th>\n",
              "      <td>1</td>\n",
              "      <td>6</td>\n",
              "      <td>36</td>\n",
              "      <td>5</td>\n",
              "      <td>3</td>\n",
              "    </tr>\n",
              "  </tbody>\n",
              "</table>\n",
              "</div>\n",
              "      <button class=\"colab-df-convert\" onclick=\"convertToInteractive('df-bd360cf5-b2b6-4f08-8d67-c42e664be6cb')\"\n",
              "              title=\"Convert this dataframe to an interactive table.\"\n",
              "              style=\"display:none;\">\n",
              "        \n",
              "  <svg xmlns=\"http://www.w3.org/2000/svg\" height=\"24px\"viewBox=\"0 0 24 24\"\n",
              "       width=\"24px\">\n",
              "    <path d=\"M0 0h24v24H0V0z\" fill=\"none\"/>\n",
              "    <path d=\"M18.56 5.44l.94 2.06.94-2.06 2.06-.94-2.06-.94-.94-2.06-.94 2.06-2.06.94zm-11 1L8.5 8.5l.94-2.06 2.06-.94-2.06-.94L8.5 2.5l-.94 2.06-2.06.94zm10 10l.94 2.06.94-2.06 2.06-.94-2.06-.94-.94-2.06-.94 2.06-2.06.94z\"/><path d=\"M17.41 7.96l-1.37-1.37c-.4-.4-.92-.59-1.43-.59-.52 0-1.04.2-1.43.59L10.3 9.45l-7.72 7.72c-.78.78-.78 2.05 0 2.83L4 21.41c.39.39.9.59 1.41.59.51 0 1.02-.2 1.41-.59l7.78-7.78 2.81-2.81c.8-.78.8-2.07 0-2.86zM5.41 20L4 18.59l7.72-7.72 1.47 1.35L5.41 20z\"/>\n",
              "  </svg>\n",
              "      </button>\n",
              "      \n",
              "  <style>\n",
              "    .colab-df-container {\n",
              "      display:flex;\n",
              "      flex-wrap:wrap;\n",
              "      gap: 12px;\n",
              "    }\n",
              "\n",
              "    .colab-df-convert {\n",
              "      background-color: #E8F0FE;\n",
              "      border: none;\n",
              "      border-radius: 50%;\n",
              "      cursor: pointer;\n",
              "      display: none;\n",
              "      fill: #1967D2;\n",
              "      height: 32px;\n",
              "      padding: 0 0 0 0;\n",
              "      width: 32px;\n",
              "    }\n",
              "\n",
              "    .colab-df-convert:hover {\n",
              "      background-color: #E2EBFA;\n",
              "      box-shadow: 0px 1px 2px rgba(60, 64, 67, 0.3), 0px 1px 3px 1px rgba(60, 64, 67, 0.15);\n",
              "      fill: #174EA6;\n",
              "    }\n",
              "\n",
              "    [theme=dark] .colab-df-convert {\n",
              "      background-color: #3B4455;\n",
              "      fill: #D2E3FC;\n",
              "    }\n",
              "\n",
              "    [theme=dark] .colab-df-convert:hover {\n",
              "      background-color: #434B5C;\n",
              "      box-shadow: 0px 1px 3px 1px rgba(0, 0, 0, 0.15);\n",
              "      filter: drop-shadow(0px 1px 2px rgba(0, 0, 0, 0.3));\n",
              "      fill: #FFFFFF;\n",
              "    }\n",
              "  </style>\n",
              "\n",
              "      <script>\n",
              "        const buttonEl =\n",
              "          document.querySelector('#df-bd360cf5-b2b6-4f08-8d67-c42e664be6cb button.colab-df-convert');\n",
              "        buttonEl.style.display =\n",
              "          google.colab.kernel.accessAllowed ? 'block' : 'none';\n",
              "\n",
              "        async function convertToInteractive(key) {\n",
              "          const element = document.querySelector('#df-bd360cf5-b2b6-4f08-8d67-c42e664be6cb');\n",
              "          const dataTable =\n",
              "            await google.colab.kernel.invokeFunction('convertToInteractive',\n",
              "                                                     [key], {});\n",
              "          if (!dataTable) return;\n",
              "\n",
              "          const docLinkHtml = 'Like what you see? Visit the ' +\n",
              "            '<a target=\"_blank\" href=https://colab.research.google.com/notebooks/data_table.ipynb>data table notebook</a>'\n",
              "            + ' to learn more about interactive tables.';\n",
              "          element.innerHTML = '';\n",
              "          dataTable['output_type'] = 'display_data';\n",
              "          await google.colab.output.renderOutput(dataTable, element);\n",
              "          const docLink = document.createElement('div');\n",
              "          docLink.innerHTML = docLinkHtml;\n",
              "          element.appendChild(docLink);\n",
              "        }\n",
              "      </script>\n",
              "    </div>\n",
              "  </div>\n",
              "  "
            ]
          },
          "metadata": {},
          "execution_count": 20
        }
      ]
    },
    {
      "cell_type": "markdown",
      "source": [
        "**Handle the colum of \"Rating\":**"
      ],
      "metadata": {
        "id": "0ZmVsUgqc-4s"
      }
    },
    {
      "cell_type": "code",
      "source": [
        "# Create two empty columns\n",
        "df['Rating_Number'] = ''\n",
        "df['Votes_Number'] = ''\n",
        "\n",
        "# Extract the numbers and store them in the respective columns\n",
        "df['Rating_Number'] = df['Rating'].str.extract(r'rating:(\\d+\\.?\\d*)')\n",
        "df['Votes_Number'] = df['Rating'].str.extract(r'margin-left:10px;\">(\\d+)')\n",
        "\n",
        "for i in range(10):\n",
        "  row = df.iloc[i]\n",
        "  print(row.Rating_Number,row.Votes_Number)"
      ],
      "metadata": {
        "id": "W9XtpbWDH0bd",
        "colab": {
          "base_uri": "https://localhost:8080/"
        },
        "outputId": "c9efe4d2-0a2b-47ee-982a-b97dbd962a3a"
      },
      "execution_count": null,
      "outputs": [
        {
          "output_type": "stream",
          "name": "stdout",
          "text": [
            "4.35 115\n",
            "4.05 64\n",
            "4.55 68\n",
            "4.45 74\n",
            "4.6 59\n",
            "4.5 109\n",
            "4.4 413\n",
            "4 558\n",
            "4.5 181\n",
            "4.35 207\n"
          ]
        }
      ]
    },
    {
      "cell_type": "markdown",
      "source": [
        "**Handling the colum of \"Price\":**"
      ],
      "metadata": {
        "id": "G4wHUWTPH2ed"
      }
    },
    {
      "cell_type": "code",
      "source": [
        "df['Price'] = df['Price'].str.replace('₹', '')\n",
        "\n",
        "for i in range(10):\n",
        "  row = df.iloc[i]\n",
        "  print(row.Price)"
      ],
      "metadata": {
        "id": "yKkyGbvTH4k2",
        "colab": {
          "base_uri": "https://localhost:8080/"
        },
        "outputId": "a544e3fe-b98d-4e54-dd4a-51ece68219b7"
      },
      "execution_count": null,
      "outputs": [
        {
          "output_type": "stream",
          "name": "stdout",
          "text": [
            "58,990\n",
            "31,990\n",
            "76,990\n",
            "38,990\n",
            "75,763\n",
            "58,990\n",
            "49,990\n",
            "58,990\n",
            "62,990\n",
            "64,990\n"
          ]
        }
      ]
    },
    {
      "cell_type": "markdown",
      "source": [
        "**Handling the colum of \"Score\":**"
      ],
      "metadata": {
        "id": "eYpo5TpeH6hG"
      }
    },
    {
      "cell_type": "code",
      "source": [
        "# Create two empty columns\n",
        "df['Computer_Score'] = ''\n",
        "df['Group_Rank'] = ''\n",
        "df['Group_Rank_Size'] = ''\n",
        "df['Total_Rank'] = ''\n",
        "df['Total_Rank_Size'] = ''\n",
        "\n",
        "# Extract the numbers and store them in the respective columns\n",
        "df['Computer_Score'] = df['Score'].str.extract(r'score rank-(\\d+)-bg')\n",
        "df['Group_Rank'] = df['Score'].str.extract(r'Group Rank: <b class=\"rank-\\d+\">#(\\d+)')\n",
        "df['Group_Rank_Size'] = df['Score'].str.extract(r'Group Rank: <b class=\"rank-\\d+\">#\\d+</b> \\/ (\\d+)')\n",
        "df['Total_Rank'] = df['Score'].str.extract(r'Overall Rank: <b class=\"rank-\\d+\">#(\\d+)')\n",
        "df['Total_Rank_Size'] = df['Score'].str.extract(r'Overall Rank: <b class=\"rank-\\d+\">#\\d+</b> \\/ (\\d+)')\n",
        "\n",
        "df.describe()"
      ],
      "metadata": {
        "id": "PW6JHMRfH8kp",
        "colab": {
          "base_uri": "https://localhost:8080/",
          "height": 343
        },
        "outputId": "a2b7770c-14a3-401b-e144-b30378278651"
      },
      "execution_count": null,
      "outputs": [
        {
          "output_type": "execute_result",
          "data": {
            "text/plain": [
              "                                                     link  \\\n",
              "count                                                2224   \n",
              "unique                                               2224   \n",
              "top     https://www.smartprix.com/laptops/hp-victus-16...   \n",
              "freq                                                    1   \n",
              "\n",
              "                                                   Rating   Price  \\\n",
              "count                                                2224    2224   \n",
              "unique                                               1785    1055   \n",
              "top     <div class=\"pg-prd-rating\"><span class=\"sm-rat...  59,990   \n",
              "freq                                                    6      36   \n",
              "\n",
              "                                                    Score  \\\n",
              "count                                                2224   \n",
              "unique                                               2099   \n",
              "top     <div class=\"pg-prd-s-score\"><div class=\"score ...   \n",
              "freq                                                    5   \n",
              "\n",
              "                                                    Specs Rating_Number  \\\n",
              "count                                                2224          2224   \n",
              "unique                                               2219            28   \n",
              "top     ['<div class=\"sm-fullspecs-grp\"><div class=\"ti...           4.3   \n",
              "freq                                                    3           196   \n",
              "\n",
              "       Votes_Number Computer_Score Group_Rank Group_Rank_Size Total_Rank  \\\n",
              "count          2224           2224       2224            2224       2224   \n",
              "unique          459              4        401              36       1041   \n",
              "top               1              2         57             345        448   \n",
              "freq             98           1288         24             172         18   \n",
              "\n",
              "       Total_Rank_Size  \n",
              "count             2224  \n",
              "unique               2  \n",
              "top               2352  \n",
              "freq              2221  "
            ],
            "text/html": [
              "\n",
              "  <div id=\"df-f1253c95-e235-44fa-bf12-e20c38107eae\">\n",
              "    <div class=\"colab-df-container\">\n",
              "      <div>\n",
              "<style scoped>\n",
              "    .dataframe tbody tr th:only-of-type {\n",
              "        vertical-align: middle;\n",
              "    }\n",
              "\n",
              "    .dataframe tbody tr th {\n",
              "        vertical-align: top;\n",
              "    }\n",
              "\n",
              "    .dataframe thead th {\n",
              "        text-align: right;\n",
              "    }\n",
              "</style>\n",
              "<table border=\"1\" class=\"dataframe\">\n",
              "  <thead>\n",
              "    <tr style=\"text-align: right;\">\n",
              "      <th></th>\n",
              "      <th>link</th>\n",
              "      <th>Rating</th>\n",
              "      <th>Price</th>\n",
              "      <th>Score</th>\n",
              "      <th>Specs</th>\n",
              "      <th>Rating_Number</th>\n",
              "      <th>Votes_Number</th>\n",
              "      <th>Computer_Score</th>\n",
              "      <th>Group_Rank</th>\n",
              "      <th>Group_Rank_Size</th>\n",
              "      <th>Total_Rank</th>\n",
              "      <th>Total_Rank_Size</th>\n",
              "    </tr>\n",
              "  </thead>\n",
              "  <tbody>\n",
              "    <tr>\n",
              "      <th>count</th>\n",
              "      <td>2224</td>\n",
              "      <td>2224</td>\n",
              "      <td>2224</td>\n",
              "      <td>2224</td>\n",
              "      <td>2224</td>\n",
              "      <td>2224</td>\n",
              "      <td>2224</td>\n",
              "      <td>2224</td>\n",
              "      <td>2224</td>\n",
              "      <td>2224</td>\n",
              "      <td>2224</td>\n",
              "      <td>2224</td>\n",
              "    </tr>\n",
              "    <tr>\n",
              "      <th>unique</th>\n",
              "      <td>2224</td>\n",
              "      <td>1785</td>\n",
              "      <td>1055</td>\n",
              "      <td>2099</td>\n",
              "      <td>2219</td>\n",
              "      <td>28</td>\n",
              "      <td>459</td>\n",
              "      <td>4</td>\n",
              "      <td>401</td>\n",
              "      <td>36</td>\n",
              "      <td>1041</td>\n",
              "      <td>2</td>\n",
              "    </tr>\n",
              "    <tr>\n",
              "      <th>top</th>\n",
              "      <td>https://www.smartprix.com/laptops/hp-victus-16...</td>\n",
              "      <td>&lt;div class=\"pg-prd-rating\"&gt;&lt;span class=\"sm-rat...</td>\n",
              "      <td>59,990</td>\n",
              "      <td>&lt;div class=\"pg-prd-s-score\"&gt;&lt;div class=\"score ...</td>\n",
              "      <td>['&lt;div class=\"sm-fullspecs-grp\"&gt;&lt;div class=\"ti...</td>\n",
              "      <td>4.3</td>\n",
              "      <td>1</td>\n",
              "      <td>2</td>\n",
              "      <td>57</td>\n",
              "      <td>345</td>\n",
              "      <td>448</td>\n",
              "      <td>2352</td>\n",
              "    </tr>\n",
              "    <tr>\n",
              "      <th>freq</th>\n",
              "      <td>1</td>\n",
              "      <td>6</td>\n",
              "      <td>36</td>\n",
              "      <td>5</td>\n",
              "      <td>3</td>\n",
              "      <td>196</td>\n",
              "      <td>98</td>\n",
              "      <td>1288</td>\n",
              "      <td>24</td>\n",
              "      <td>172</td>\n",
              "      <td>18</td>\n",
              "      <td>2221</td>\n",
              "    </tr>\n",
              "  </tbody>\n",
              "</table>\n",
              "</div>\n",
              "      <button class=\"colab-df-convert\" onclick=\"convertToInteractive('df-f1253c95-e235-44fa-bf12-e20c38107eae')\"\n",
              "              title=\"Convert this dataframe to an interactive table.\"\n",
              "              style=\"display:none;\">\n",
              "        \n",
              "  <svg xmlns=\"http://www.w3.org/2000/svg\" height=\"24px\"viewBox=\"0 0 24 24\"\n",
              "       width=\"24px\">\n",
              "    <path d=\"M0 0h24v24H0V0z\" fill=\"none\"/>\n",
              "    <path d=\"M18.56 5.44l.94 2.06.94-2.06 2.06-.94-2.06-.94-.94-2.06-.94 2.06-2.06.94zm-11 1L8.5 8.5l.94-2.06 2.06-.94-2.06-.94L8.5 2.5l-.94 2.06-2.06.94zm10 10l.94 2.06.94-2.06 2.06-.94-2.06-.94-.94-2.06-.94 2.06-2.06.94z\"/><path d=\"M17.41 7.96l-1.37-1.37c-.4-.4-.92-.59-1.43-.59-.52 0-1.04.2-1.43.59L10.3 9.45l-7.72 7.72c-.78.78-.78 2.05 0 2.83L4 21.41c.39.39.9.59 1.41.59.51 0 1.02-.2 1.41-.59l7.78-7.78 2.81-2.81c.8-.78.8-2.07 0-2.86zM5.41 20L4 18.59l7.72-7.72 1.47 1.35L5.41 20z\"/>\n",
              "  </svg>\n",
              "      </button>\n",
              "      \n",
              "  <style>\n",
              "    .colab-df-container {\n",
              "      display:flex;\n",
              "      flex-wrap:wrap;\n",
              "      gap: 12px;\n",
              "    }\n",
              "\n",
              "    .colab-df-convert {\n",
              "      background-color: #E8F0FE;\n",
              "      border: none;\n",
              "      border-radius: 50%;\n",
              "      cursor: pointer;\n",
              "      display: none;\n",
              "      fill: #1967D2;\n",
              "      height: 32px;\n",
              "      padding: 0 0 0 0;\n",
              "      width: 32px;\n",
              "    }\n",
              "\n",
              "    .colab-df-convert:hover {\n",
              "      background-color: #E2EBFA;\n",
              "      box-shadow: 0px 1px 2px rgba(60, 64, 67, 0.3), 0px 1px 3px 1px rgba(60, 64, 67, 0.15);\n",
              "      fill: #174EA6;\n",
              "    }\n",
              "\n",
              "    [theme=dark] .colab-df-convert {\n",
              "      background-color: #3B4455;\n",
              "      fill: #D2E3FC;\n",
              "    }\n",
              "\n",
              "    [theme=dark] .colab-df-convert:hover {\n",
              "      background-color: #434B5C;\n",
              "      box-shadow: 0px 1px 3px 1px rgba(0, 0, 0, 0.15);\n",
              "      filter: drop-shadow(0px 1px 2px rgba(0, 0, 0, 0.3));\n",
              "      fill: #FFFFFF;\n",
              "    }\n",
              "  </style>\n",
              "\n",
              "      <script>\n",
              "        const buttonEl =\n",
              "          document.querySelector('#df-f1253c95-e235-44fa-bf12-e20c38107eae button.colab-df-convert');\n",
              "        buttonEl.style.display =\n",
              "          google.colab.kernel.accessAllowed ? 'block' : 'none';\n",
              "\n",
              "        async function convertToInteractive(key) {\n",
              "          const element = document.querySelector('#df-f1253c95-e235-44fa-bf12-e20c38107eae');\n",
              "          const dataTable =\n",
              "            await google.colab.kernel.invokeFunction('convertToInteractive',\n",
              "                                                     [key], {});\n",
              "          if (!dataTable) return;\n",
              "\n",
              "          const docLinkHtml = 'Like what you see? Visit the ' +\n",
              "            '<a target=\"_blank\" href=https://colab.research.google.com/notebooks/data_table.ipynb>data table notebook</a>'\n",
              "            + ' to learn more about interactive tables.';\n",
              "          element.innerHTML = '';\n",
              "          dataTable['output_type'] = 'display_data';\n",
              "          await google.colab.output.renderOutput(dataTable, element);\n",
              "          const docLink = document.createElement('div');\n",
              "          docLink.innerHTML = docLinkHtml;\n",
              "          element.appendChild(docLink);\n",
              "        }\n",
              "      </script>\n",
              "    </div>\n",
              "  </div>\n",
              "  "
            ]
          },
          "metadata": {},
          "execution_count": 23
        }
      ]
    },
    {
      "cell_type": "markdown",
      "source": [
        "**Handling the colum of \"Specs\":**\n",
        "\n",
        "Because the configurations for each laptop maybe have different attributes, and we are trying to find out the dictionary of the attributes have ever occured and use the dictionary to check each laoptop's configurations."
      ],
      "metadata": {
        "id": "QdveinmpH-oc"
      }
    },
    {
      "cell_type": "code",
      "source": [
        "from bs4 import BeautifulSoup\n",
        "\n",
        "specs_html = row.Specs\n",
        "soup = BeautifulSoup(specs_html, 'html.parser')\n",
        "\n",
        "titles = soup.select('td.title')\n",
        "values = [title.text.strip() for title in titles]\n",
        "unique_values = list(set(values))\n",
        "\n",
        "print(unique_values)"
      ],
      "metadata": {
        "id": "1IFL2NgyIBBd",
        "colab": {
          "base_uri": "https://localhost:8080/"
        },
        "outputId": "f31ea9a1-5d30-47f0-d7c1-e30c981ead4b"
      },
      "execution_count": null,
      "outputs": [
        {
          "output_type": "stream",
          "name": "stdout",
          "text": [
            "['Device Type', 'Bluetooth', 'Ethernet', 'Sales Package', 'Weight', 'Processor', 'PPI', 'Generation', 'USB Ports', 'Speed', 'Cores', 'Model', 'Dedicated Memory', 'Touchpad', 'Warranty', 'Battery Backup', 'Type', 'Battery Details', 'Features', 'RAM', 'Touch', 'Speakers', 'Resolution', 'Refresh Rate', 'Inbuilt Microphone', 'GPU', 'Series', 'Battery', 'HDMI', 'Keyboard', 'WiFi', 'OS', 'Dimensions', 'Headphone Jack', 'Optical Drive', 'Anti Glare Screen', 'Cache', 'Keyboard Backlit', 'Utility', 'Brand', 'Card Reader', 'Solid State Drive', 'Size', 'Camera', 'Microphone In', 'SSD Interface']\n"
          ]
        }
      ]
    },
    {
      "cell_type": "code",
      "source": [
        "import pandas as pd\n",
        "from bs4 import BeautifulSoup\n",
        "\n",
        "# create the colums accourding to the dictinory, namely the \"unique_values\".\n",
        "for value in unique_values:\n",
        "    df = df.assign(**{value: None})\n",
        "\n",
        "# update the values of these colums for each laptop.\n",
        "for i in range(len(df)):\n",
        "    row = df.iloc[i]\n",
        "    specs_html = row.Specs\n",
        "    soup = BeautifulSoup(specs_html, 'html.parser')\n",
        "    titles = soup.select('td.title')\n",
        "    values = [title.text.strip() for title in titles]\n",
        "\n",
        "    for value in unique_values:\n",
        "        found_value = None\n",
        "        for j in range(len(titles)):\n",
        "            if titles[j].text.strip() == value:\n",
        "                next_sibling = titles[j].find_next_sibling('td')\n",
        "                if next_sibling is not None:\n",
        "                    if next_sibling.find('span'):\n",
        "                        found_value = next_sibling.find('span').text.strip()\n",
        "                    elif next_sibling.find('svg'):\n",
        "                        found_value = next_sibling.find('svg')['style'].split(':')[2].split(';')[0]\n",
        "                    else:\n",
        "                        found_value = next_sibling.text.strip()\n",
        "\n",
        "\n",
        "                break\n",
        "\n",
        "\n",
        "\n",
        "        if found_value is not None:\n",
        "            df.at[i, value] = found_value\n",
        "        else:\n",
        "            df.at[i, value] = 'No'\n",
        "\n",
        "print(df)"
      ],
      "metadata": {
        "id": "IK6AMnLGIGsk",
        "colab": {
          "base_uri": "https://localhost:8080/"
        },
        "outputId": "f4cc9996-5de7-4e6a-9793-7988695a9cc8"
      },
      "execution_count": null,
      "outputs": [
        {
          "output_type": "stream",
          "name": "stdout",
          "text": [
            "                                                   link  \\\n",
            "0     https://www.smartprix.com/laptops/hp-victus-16...   \n",
            "1     https://www.smartprix.com/laptops/acer-one-14-...   \n",
            "2     https://www.smartprix.com/laptops/hp-pavilion-...   \n",
            "3     https://www.smartprix.com/laptops/infinix-inbo...   \n",
            "4     https://www.smartprix.com/laptops/dell-inspiro...   \n",
            "...                                                 ...   \n",
            "194                                                 NaN   \n",
            "330                                                 NaN   \n",
            "1295                                                NaN   \n",
            "1394                                                NaN   \n",
            "2216                                                NaN   \n",
            "\n",
            "                                                 Rating   Price  \\\n",
            "0     <div class=\"pg-prd-rating\"><span class=\"sm-rat...  58,990   \n",
            "1     <div class=\"pg-prd-rating\"><span class=\"sm-rat...  31,990   \n",
            "2     <div class=\"pg-prd-rating\"><span class=\"sm-rat...  76,990   \n",
            "3     <div class=\"pg-prd-rating\"><span class=\"sm-rat...  38,990   \n",
            "4     <div class=\"pg-prd-rating\"><span class=\"sm-rat...  75,763   \n",
            "...                                                 ...     ...   \n",
            "194                                                 NaN     NaN   \n",
            "330                                                 NaN     NaN   \n",
            "1295                                                NaN     NaN   \n",
            "1394                                                NaN     NaN   \n",
            "2216                                                NaN     NaN   \n",
            "\n",
            "                                                  Score  \\\n",
            "0     <div class=\"pg-prd-s-score\"><div class=\"score ...   \n",
            "1     <div class=\"pg-prd-s-score\"><div class=\"score ...   \n",
            "2     <div class=\"pg-prd-s-score\"><div class=\"score ...   \n",
            "3     <div class=\"pg-prd-s-score\"><div class=\"score ...   \n",
            "4     <div class=\"pg-prd-s-score\"><div class=\"score ...   \n",
            "...                                                 ...   \n",
            "194                                                 NaN   \n",
            "330                                                 NaN   \n",
            "1295                                                NaN   \n",
            "1394                                                NaN   \n",
            "2216                                                NaN   \n",
            "\n",
            "                                                  Specs Rating_Number  \\\n",
            "0     ['<div class=\"sm-fullspecs-grp\"><div class=\"ti...          4.35   \n",
            "1     ['<div class=\"sm-fullspecs-grp\"><div class=\"ti...          4.05   \n",
            "2     ['<div class=\"sm-fullspecs-grp\"><div class=\"ti...          4.55   \n",
            "3     ['<div class=\"sm-fullspecs-grp\"><div class=\"ti...          4.45   \n",
            "4     ['<div class=\"sm-fullspecs-grp\"><div class=\"ti...           4.6   \n",
            "...                                                 ...           ...   \n",
            "194                                                 NaN           NaN   \n",
            "330                                                 NaN           NaN   \n",
            "1295                                                NaN           NaN   \n",
            "1394                                                NaN           NaN   \n",
            "2216                                                NaN           NaN   \n",
            "\n",
            "     Votes_Number Computer_Score Group_Rank Group_Rank_Size  ...       Cache  \\\n",
            "0             115              2          2             481  ...  12\\u2009MB   \n",
            "1              64              2          3             178  ...   6\\u2009MB   \n",
            "2              68              2        116             332  ...  12\\u2009MB   \n",
            "3              74              3         55             345  ...   8\\u2009MB   \n",
            "4              59              2         58             332  ...  12\\u2009MB   \n",
            "...           ...            ...        ...             ...  ...         ...   \n",
            "194           NaN            NaN        NaN             NaN  ...  10\\u2009MB   \n",
            "330           NaN            NaN        NaN             NaN  ...  12\\u2009MB   \n",
            "1295          NaN            NaN        NaN             NaN  ...  16\\u2009MB   \n",
            "1394          NaN            NaN        NaN             NaN  ...  24\\u2009MB   \n",
            "2216          NaN            NaN        NaN             NaN  ...   4\\u2009MB   \n",
            "\n",
            "     Keyboard Backlit                              Utility  Brand  \\\n",
            "0                 Yes                               Gaming  Intel   \n",
            "1                  No                         Everyday Use  Intel   \n",
            "2                 Yes                          Performance  Intel   \n",
            "3                 Yes            Everyday Use, Performance  Intel   \n",
            "4                 Yes  Everyday Use, Business, Performance  Intel   \n",
            "...               ...                                  ...    ...   \n",
            "194                No                         Everyday Use  Intel   \n",
            "330               Yes                  Gaming, Performance  Intel   \n",
            "1295              Yes                  Gaming, Performance    AMD   \n",
            "1394              Yes                               Gaming  Intel   \n",
            "2216               No                          Performance  Intel   \n",
            "\n",
            "                            Card Reader Solid State Drive              Size  \\\n",
            "0     Multi-Format SD Media Card Reader       512\\u2009GB  16.1\\u2009inches   \n",
            "1                                    No       512\\u2009GB    14\\u2009inches   \n",
            "2                                    No       512\\u2009GB  15.6\\u2009inches   \n",
            "3                                    No       512\\u2009GB    14\\u2009inches   \n",
            "4                                   Yes       512\\u2009GB    16\\u2009inches   \n",
            "...                                 ...               ...               ...   \n",
            "194                                 Yes       512\\u2009GB    14\\u2009inches   \n",
            "330                  3-in-1 Card Reader       512\\u2009GB  15.6\\u2009inches   \n",
            "1295                                 No         1\\u2009TB    16\\u2009inches   \n",
            "1394                                Yes       512\\u2009GB  15.6\\u2009inches   \n",
            "2216                                 No       256\\u2009GB    14\\u2009inches   \n",
            "\n",
            "                             Camera Microphone In   SSD Interface  \n",
            "0     HP Wide Vision 720p HD camera           Yes  NVMe PCIe Gen4  \n",
            "1            HD webcam 720p Support           Yes  NVMe PCIe Gen3  \n",
            "2                               Yes           Yes            NVMe  \n",
            "3                               Yes           Yes  NVMe PCIe Gen3  \n",
            "4                         HD Camera           Yes            NVMe  \n",
            "...                             ...           ...             ...  \n",
            "194                             Yes           Yes            NVMe  \n",
            "330                         720p HD           Yes              No  \n",
            "1295                            Yes           Yes              No  \n",
            "1394                            Yes           Yes              No  \n",
            "2216                            Yes           Yes              No  \n",
            "\n",
            "[2229 rows x 58 columns]\n"
          ]
        }
      ]
    },
    {
      "cell_type": "code",
      "source": [
        "import pandas as pd\n",
        "\n",
        "# Drop specified columns\n",
        "df = df.drop(['link', 'Rating', 'Score', 'Specs'], axis=1)\n",
        "\n",
        "# Move the \"Price\" column to the end of the DataFrame\n",
        "price_col = df.pop('Price')\n",
        "df['Price'] = price_col\n",
        "\n",
        "# Save the DataFrame as a CSV file\n",
        "df.to_csv('laptop_price_cleaned.csv', index=False)\n",
        "\n",
        "print(\"Data saved as 'laptop_price_cleaned.csv'\")"
      ],
      "metadata": {
        "id": "v5GCbPXiIJm0",
        "colab": {
          "base_uri": "https://localhost:8080/"
        },
        "outputId": "a625de0e-612e-4ece-c0b9-463f75804dc8"
      },
      "execution_count": null,
      "outputs": [
        {
          "output_type": "stream",
          "name": "stdout",
          "text": [
            "Data saved as 'laptop_price_cleaned.csv'\n"
          ]
        }
      ]
    },
    {
      "cell_type": "code",
      "source": [
        "print(df.iloc[0])"
      ],
      "metadata": {
        "id": "BImpSXcxIL-K",
        "colab": {
          "base_uri": "https://localhost:8080/"
        },
        "outputId": "d6c592d9-3358-4f96-cdfc-2fdd673d1366"
      },
      "execution_count": null,
      "outputs": [
        {
          "output_type": "stream",
          "name": "stdout",
          "text": [
            "Rating_Number                                                      4.35\n",
            "Votes_Number                                                        115\n",
            "Computer_Score                                                        2\n",
            "Group_Rank                                                            2\n",
            "Group_Rank_Size                                                     481\n",
            "Total_Rank                                                          278\n",
            "Total_Rank_Size                                                    2352\n",
            "Device Type                                                     Netbook\n",
            "Bluetooth                                                          v5.2\n",
            "Ethernet                                 Integrated 10/100/1000 GbE LAN\n",
            "Sales Package                                                        No\n",
            "Weight                                                     2.46\\u2009kg\n",
            "Processor                                 11th Gen Intel Core i5 11400H\n",
            "PPI                                                      ~ 137\\u2009PPI\n",
            "Generation                                                     11th Gen\n",
            "USB Ports                   1 x USB Type-C, 3 x USB Type-A, 3 x USB 3.0\n",
            "Speed                 6 x 2.2\\u2009GHz (Turbo Speed upto 4.5\\u2009GH...\n",
            "Cores                                             Hexa Core, 12 Threads\n",
            "Model                                                        16-d0333TX\n",
            "Dedicated Memory                                        GDDR6 4\\u2009GB\n",
            "Touchpad              HP Imagepad with multi-touch Gesture Support; ...\n",
            "Warranty                                           1\\u2009year Warranty\n",
            "Battery Backup                                                       No\n",
            "Type                                                                IPS\n",
            "Battery Details                  280 g Battery Weight, EPEAT Registered\n",
            "Features                       250nits Brightness, Micro-Edge, 45% NTSC\n",
            "RAM                                                     16\\u2009GB DDR4\n",
            "Touch                                                                No\n",
            "Speakers                                                  Dual Speakers\n",
            "Resolution                            1920\\u2009x\\u20091080\\u2009pixels\n",
            "Refresh Rate                                                144\\u2009Hz\n",
            "Inbuilt Microphone                       Dual Array Digital Microphones\n",
            "GPU                                             NVIDIA GeForce GTX 1650\n",
            "Series                                                           Victus\n",
            "Battery                                      70\\u2009Wh, 4 Cell Battery\n",
            "HDMI                                                  1 x HDMI 2.1 Port\n",
            "Keyboard              Full-Size, Mica Silver Keyboard with Numeric K...\n",
            "WiFi                                          Intel Wi-Fi 6 AX201 (2x2)\n",
            "OS                                             Windows 11 Home (64-bit)\n",
            "Dimensions                 370\\u2009x\\u2009262\\u2009x\\u200923.5\\u2009mm\n",
            "Headphone Jack                                                      Yes\n",
            "Optical Drive                                                        No\n",
            "Anti Glare Screen                                                   Yes\n",
            "Cache                                                        12\\u2009MB\n",
            "Keyboard Backlit                                                    Yes\n",
            "Utility                                                          Gaming\n",
            "Brand                                                             Intel\n",
            "Card Reader                           Multi-Format SD Media Card Reader\n",
            "Solid State Drive                                           512\\u2009GB\n",
            "Size                                                   16.1\\u2009inches\n",
            "Camera                                    HP Wide Vision 720p HD camera\n",
            "Microphone In                                                       Yes\n",
            "SSD Interface                                            NVMe PCIe Gen4\n",
            "Price                                                            58,990\n",
            "Name: 0, dtype: object\n"
          ]
        }
      ]
    },
    {
      "cell_type": "markdown",
      "source": [
        "------\n"
      ],
      "metadata": {
        "id": "SKWuljLRIOCN"
      }
    },
    {
      "cell_type": "markdown",
      "source": [
        "##Section 3: Prepare the Data for Machine Learning.\n",
        "Here we do some processing to pave the way for future work, because having data ready for machine learning algorithms offers several benefits.\n",
        "\n",
        "Improved Accuracy: High-quality and well-prepared data can lead to improved accuracy in machine learning models. By ensuring that the data is clean, consistent, and properly formatted, machine learning algorithms can make more accurate predictions and classifications.\n",
        "\n",
        "Efficient Model Training: When data is ready for machine learning algorithms, the training process becomes more efficient.\n",
        "\n",
        "Enhanced Feature Extraction: Preparing data involves transforming raw data into meaningful features and Proper feature extraction techniques can help uncover patterns, relationships within data. This enables machine learning algorithms to make better-informed decisions.\n",
        "\n",
        "Increased Generalization: Well-prepared data helps improve the generalization capabilities of machine learning models.\n",
        "\n",
        "Compatibility with Algorithms: Different machine learning algorithms have specific requirements regarding the format and characteristics of the input data. Preparing the data to meet these requirements ensures compatibility with the chosen algorithms.\n",
        "\n",
        "Reduced Bias: Data preparation is crucial for reducing bias in machine learning models. By carefully examining and cleaning the data, biases and discriminatory factors can be identified and addressed.\n",
        "\n"
      ],
      "metadata": {
        "id": "0TYtw9ZQ6XFe"
      }
    },
    {
      "cell_type": "markdown",
      "source": [
        "**Import the dataset:**\n",
        "\n",
        "Using all the columns in the dataset except the price column as the computer matrix and the price column as the computer_labels matrix."
      ],
      "metadata": {
        "id": "s8N5eeuCJts-"
      }
    },
    {
      "cell_type": "code",
      "source": [
        "import pandas as pd\n",
        "import numpy as np\n",
        "data= pd.read_csv('/content/laptop_price_cleaned (2).csv')\n",
        "data = pd.DataFrame(data)\n",
        "computer = data.drop(\"Price\",axis=1)\n",
        "computer_labels = data[\"Price\"].copy()\n",
        "computer_num = computer.select_dtypes(include=[np.number])\n",
        "computer_text = computer.select_dtypes(exclude=[np.number])\n",
        "data.head()"
      ],
      "metadata": {
        "colab": {
          "base_uri": "https://localhost:8080/",
          "height": 785
        },
        "id": "5Quyihbu5Wt4",
        "outputId": "d52894d5-5e08-4762-841a-b61700a25cd1"
      },
      "execution_count": null,
      "outputs": [
        {
          "output_type": "execute_result",
          "data": {
            "text/plain": [
              "   Rating_Number  Votes_Number  Computer_Score  Group_Rank  Group_Rank_Size  \\\n",
              "0           4.35           115               2           2              481   \n",
              "1           4.05            64               2           3              178   \n",
              "2           4.55            68               2         116              332   \n",
              "3           4.45            74               3          55              345   \n",
              "4           4.60            59               2          58              332   \n",
              "\n",
              "   Total_Rank  Total_Rank_Size                HDMI  \\\n",
              "0         278             2352   1 x HDMI 2.1 Port   \n",
              "1        1187             2352       1 x HDMI Port   \n",
              "2         735             2352   1 x HDMI 2.1 Port   \n",
              "3        1459             2352   1 x HDMI 1.4 Port   \n",
              "4         517             2352  1 x HDMI v1.4 Port   \n",
              "\n",
              "                                            Keyboard Generation  ...  \\\n",
              "0  Full-Size, Mica Silver Keyboard with Numeric K...   11th Gen  ...   \n",
              "1  Keyboard with touchpad with multi gesture and ...   11th Gen  ...   \n",
              "2  Full-size, backlit, Natural Silver keyboard wi...   13th Gen  ...   \n",
              "3                                                Yes   11th Gen  ...   \n",
              "4                                  Standard Keyboard   13th Gen  ...   \n",
              "\n",
              "                                            Touchpad               Warranty  \\\n",
              "0  HP Imagepad with multi-touch Gesture Support; ...         1year Warranty   \n",
              "1                                                Yes  1year Onsite Warranty   \n",
              "2                                                Yes  1year Onsite Warranty   \n",
              "3                                                Yes  1year Onsite Warranty   \n",
              "4                                                Yes  1year Onsite Warranty   \n",
              "\n",
              "                                            Features Security Lock Port  \\\n",
              "0           250nits Brightness, Micro-Edge, 45% NTSC                 No   \n",
              "1                                                 No                Yes   \n",
              "2  micro-edge, Low Blue Light, Brightness: 300 ni...                Yes   \n",
              "3      Peak Brightness: 300nits, 100% sRGB, NTSC 72%                Yes   \n",
              "4    300nits WVA Display w/ ComfortView Plus Support                 No   \n",
              "\n",
              "                       Processor                  Adapter Type Bluetooth  \\\n",
              "0  11th Gen Intel Core i5 11400H  150 W Smart AC Power Adapter      v5.2   \n",
              "1  11th Gen Intel Core i3 1115G4     AC 45- Watt power adapter        v5   \n",
              "2   13th Gen Intel Core i5 1340P   65 W Smart AC power adapter      v5.3   \n",
              "3  11th Gen Intel Core i5 1155G7                    65W Type-C      v5.1   \n",
              "4   13th Gen Intel Core i5 1340P            65 Watt AC Adapter      v5.2   \n",
              "\n",
              "   Weight Device Type    Price  \n",
              "0  2.46kg     Netbook  58990.0  \n",
              "1   1.5kg   Ultrabook  31990.0  \n",
              "2  1.75kg   Ultrabook  76990.0  \n",
              "3  1.24kg   Ultrabook  38990.0  \n",
              "4  1.85kg      Hybrid  75763.0  \n",
              "\n",
              "[5 rows x 54 columns]"
            ],
            "text/html": [
              "\n",
              "  <div id=\"df-95a3e594-0d54-4359-86e9-94d9b12ca079\">\n",
              "    <div class=\"colab-df-container\">\n",
              "      <div>\n",
              "<style scoped>\n",
              "    .dataframe tbody tr th:only-of-type {\n",
              "        vertical-align: middle;\n",
              "    }\n",
              "\n",
              "    .dataframe tbody tr th {\n",
              "        vertical-align: top;\n",
              "    }\n",
              "\n",
              "    .dataframe thead th {\n",
              "        text-align: right;\n",
              "    }\n",
              "</style>\n",
              "<table border=\"1\" class=\"dataframe\">\n",
              "  <thead>\n",
              "    <tr style=\"text-align: right;\">\n",
              "      <th></th>\n",
              "      <th>Rating_Number</th>\n",
              "      <th>Votes_Number</th>\n",
              "      <th>Computer_Score</th>\n",
              "      <th>Group_Rank</th>\n",
              "      <th>Group_Rank_Size</th>\n",
              "      <th>Total_Rank</th>\n",
              "      <th>Total_Rank_Size</th>\n",
              "      <th>HDMI</th>\n",
              "      <th>Keyboard</th>\n",
              "      <th>Generation</th>\n",
              "      <th>...</th>\n",
              "      <th>Touchpad</th>\n",
              "      <th>Warranty</th>\n",
              "      <th>Features</th>\n",
              "      <th>Security Lock Port</th>\n",
              "      <th>Processor</th>\n",
              "      <th>Adapter Type</th>\n",
              "      <th>Bluetooth</th>\n",
              "      <th>Weight</th>\n",
              "      <th>Device Type</th>\n",
              "      <th>Price</th>\n",
              "    </tr>\n",
              "  </thead>\n",
              "  <tbody>\n",
              "    <tr>\n",
              "      <th>0</th>\n",
              "      <td>4.35</td>\n",
              "      <td>115</td>\n",
              "      <td>2</td>\n",
              "      <td>2</td>\n",
              "      <td>481</td>\n",
              "      <td>278</td>\n",
              "      <td>2352</td>\n",
              "      <td>1 x HDMI 2.1 Port</td>\n",
              "      <td>Full-Size, Mica Silver Keyboard with Numeric K...</td>\n",
              "      <td>11th Gen</td>\n",
              "      <td>...</td>\n",
              "      <td>HP Imagepad with multi-touch Gesture Support; ...</td>\n",
              "      <td>1year Warranty</td>\n",
              "      <td>250nits Brightness, Micro-Edge, 45% NTSC</td>\n",
              "      <td>No</td>\n",
              "      <td>11th Gen Intel Core i5 11400H</td>\n",
              "      <td>150 W Smart AC Power Adapter</td>\n",
              "      <td>v5.2</td>\n",
              "      <td>2.46kg</td>\n",
              "      <td>Netbook</td>\n",
              "      <td>58990.0</td>\n",
              "    </tr>\n",
              "    <tr>\n",
              "      <th>1</th>\n",
              "      <td>4.05</td>\n",
              "      <td>64</td>\n",
              "      <td>2</td>\n",
              "      <td>3</td>\n",
              "      <td>178</td>\n",
              "      <td>1187</td>\n",
              "      <td>2352</td>\n",
              "      <td>1 x HDMI Port</td>\n",
              "      <td>Keyboard with touchpad with multi gesture and ...</td>\n",
              "      <td>11th Gen</td>\n",
              "      <td>...</td>\n",
              "      <td>Yes</td>\n",
              "      <td>1year Onsite Warranty</td>\n",
              "      <td>No</td>\n",
              "      <td>Yes</td>\n",
              "      <td>11th Gen Intel Core i3 1115G4</td>\n",
              "      <td>AC 45- Watt power adapter</td>\n",
              "      <td>v5</td>\n",
              "      <td>1.5kg</td>\n",
              "      <td>Ultrabook</td>\n",
              "      <td>31990.0</td>\n",
              "    </tr>\n",
              "    <tr>\n",
              "      <th>2</th>\n",
              "      <td>4.55</td>\n",
              "      <td>68</td>\n",
              "      <td>2</td>\n",
              "      <td>116</td>\n",
              "      <td>332</td>\n",
              "      <td>735</td>\n",
              "      <td>2352</td>\n",
              "      <td>1 x HDMI 2.1 Port</td>\n",
              "      <td>Full-size, backlit, Natural Silver keyboard wi...</td>\n",
              "      <td>13th Gen</td>\n",
              "      <td>...</td>\n",
              "      <td>Yes</td>\n",
              "      <td>1year Onsite Warranty</td>\n",
              "      <td>micro-edge, Low Blue Light, Brightness: 300 ni...</td>\n",
              "      <td>Yes</td>\n",
              "      <td>13th Gen Intel Core i5 1340P</td>\n",
              "      <td>65 W Smart AC power adapter</td>\n",
              "      <td>v5.3</td>\n",
              "      <td>1.75kg</td>\n",
              "      <td>Ultrabook</td>\n",
              "      <td>76990.0</td>\n",
              "    </tr>\n",
              "    <tr>\n",
              "      <th>3</th>\n",
              "      <td>4.45</td>\n",
              "      <td>74</td>\n",
              "      <td>3</td>\n",
              "      <td>55</td>\n",
              "      <td>345</td>\n",
              "      <td>1459</td>\n",
              "      <td>2352</td>\n",
              "      <td>1 x HDMI 1.4 Port</td>\n",
              "      <td>Yes</td>\n",
              "      <td>11th Gen</td>\n",
              "      <td>...</td>\n",
              "      <td>Yes</td>\n",
              "      <td>1year Onsite Warranty</td>\n",
              "      <td>Peak Brightness: 300nits, 100% sRGB, NTSC 72%</td>\n",
              "      <td>Yes</td>\n",
              "      <td>11th Gen Intel Core i5 1155G7</td>\n",
              "      <td>65W Type-C</td>\n",
              "      <td>v5.1</td>\n",
              "      <td>1.24kg</td>\n",
              "      <td>Ultrabook</td>\n",
              "      <td>38990.0</td>\n",
              "    </tr>\n",
              "    <tr>\n",
              "      <th>4</th>\n",
              "      <td>4.60</td>\n",
              "      <td>59</td>\n",
              "      <td>2</td>\n",
              "      <td>58</td>\n",
              "      <td>332</td>\n",
              "      <td>517</td>\n",
              "      <td>2352</td>\n",
              "      <td>1 x HDMI v1.4 Port</td>\n",
              "      <td>Standard Keyboard</td>\n",
              "      <td>13th Gen</td>\n",
              "      <td>...</td>\n",
              "      <td>Yes</td>\n",
              "      <td>1year Onsite Warranty</td>\n",
              "      <td>300nits WVA Display w/ ComfortView Plus Support</td>\n",
              "      <td>No</td>\n",
              "      <td>13th Gen Intel Core i5 1340P</td>\n",
              "      <td>65 Watt AC Adapter</td>\n",
              "      <td>v5.2</td>\n",
              "      <td>1.85kg</td>\n",
              "      <td>Hybrid</td>\n",
              "      <td>75763.0</td>\n",
              "    </tr>\n",
              "  </tbody>\n",
              "</table>\n",
              "<p>5 rows × 54 columns</p>\n",
              "</div>\n",
              "      <button class=\"colab-df-convert\" onclick=\"convertToInteractive('df-95a3e594-0d54-4359-86e9-94d9b12ca079')\"\n",
              "              title=\"Convert this dataframe to an interactive table.\"\n",
              "              style=\"display:none;\">\n",
              "        \n",
              "  <svg xmlns=\"http://www.w3.org/2000/svg\" height=\"24px\"viewBox=\"0 0 24 24\"\n",
              "       width=\"24px\">\n",
              "    <path d=\"M0 0h24v24H0V0z\" fill=\"none\"/>\n",
              "    <path d=\"M18.56 5.44l.94 2.06.94-2.06 2.06-.94-2.06-.94-.94-2.06-.94 2.06-2.06.94zm-11 1L8.5 8.5l.94-2.06 2.06-.94-2.06-.94L8.5 2.5l-.94 2.06-2.06.94zm10 10l.94 2.06.94-2.06 2.06-.94-2.06-.94-.94-2.06-.94 2.06-2.06.94z\"/><path d=\"M17.41 7.96l-1.37-1.37c-.4-.4-.92-.59-1.43-.59-.52 0-1.04.2-1.43.59L10.3 9.45l-7.72 7.72c-.78.78-.78 2.05 0 2.83L4 21.41c.39.39.9.59 1.41.59.51 0 1.02-.2 1.41-.59l7.78-7.78 2.81-2.81c.8-.78.8-2.07 0-2.86zM5.41 20L4 18.59l7.72-7.72 1.47 1.35L5.41 20z\"/>\n",
              "  </svg>\n",
              "      </button>\n",
              "      \n",
              "  <style>\n",
              "    .colab-df-container {\n",
              "      display:flex;\n",
              "      flex-wrap:wrap;\n",
              "      gap: 12px;\n",
              "    }\n",
              "\n",
              "    .colab-df-convert {\n",
              "      background-color: #E8F0FE;\n",
              "      border: none;\n",
              "      border-radius: 50%;\n",
              "      cursor: pointer;\n",
              "      display: none;\n",
              "      fill: #1967D2;\n",
              "      height: 32px;\n",
              "      padding: 0 0 0 0;\n",
              "      width: 32px;\n",
              "    }\n",
              "\n",
              "    .colab-df-convert:hover {\n",
              "      background-color: #E2EBFA;\n",
              "      box-shadow: 0px 1px 2px rgba(60, 64, 67, 0.3), 0px 1px 3px 1px rgba(60, 64, 67, 0.15);\n",
              "      fill: #174EA6;\n",
              "    }\n",
              "\n",
              "    [theme=dark] .colab-df-convert {\n",
              "      background-color: #3B4455;\n",
              "      fill: #D2E3FC;\n",
              "    }\n",
              "\n",
              "    [theme=dark] .colab-df-convert:hover {\n",
              "      background-color: #434B5C;\n",
              "      box-shadow: 0px 1px 3px 1px rgba(0, 0, 0, 0.15);\n",
              "      filter: drop-shadow(0px 1px 2px rgba(0, 0, 0, 0.3));\n",
              "      fill: #FFFFFF;\n",
              "    }\n",
              "  </style>\n",
              "\n",
              "      <script>\n",
              "        const buttonEl =\n",
              "          document.querySelector('#df-95a3e594-0d54-4359-86e9-94d9b12ca079 button.colab-df-convert');\n",
              "        buttonEl.style.display =\n",
              "          google.colab.kernel.accessAllowed ? 'block' : 'none';\n",
              "\n",
              "        async function convertToInteractive(key) {\n",
              "          const element = document.querySelector('#df-95a3e594-0d54-4359-86e9-94d9b12ca079');\n",
              "          const dataTable =\n",
              "            await google.colab.kernel.invokeFunction('convertToInteractive',\n",
              "                                                     [key], {});\n",
              "          if (!dataTable) return;\n",
              "\n",
              "          const docLinkHtml = 'Like what you see? Visit the ' +\n",
              "            '<a target=\"_blank\" href=https://colab.research.google.com/notebooks/data_table.ipynb>data table notebook</a>'\n",
              "            + ' to learn more about interactive tables.';\n",
              "          element.innerHTML = '';\n",
              "          dataTable['output_type'] = 'display_data';\n",
              "          await google.colab.output.renderOutput(dataTable, element);\n",
              "          const docLink = document.createElement('div');\n",
              "          docLink.innerHTML = docLinkHtml;\n",
              "          element.appendChild(docLink);\n",
              "        }\n",
              "      </script>\n",
              "    </div>\n",
              "  </div>\n",
              "  "
            ]
          },
          "metadata": {},
          "execution_count": 10
        }
      ]
    },
    {
      "cell_type": "markdown",
      "source": [
        "We look at the dataset to see what its tag names are and what the individual columns look like for the data. For example, is it a data type or a text type, and then there is to observe what our target column looks like.\n",
        "\n",
        "Understanding of the data's structure and characteristics, helps people in making informed decisions regarding data preprocessing and selecting suitable machine learning algorithms.\n",
        "\n",
        "In addition, dataset observation enables the assessment of data quality by identifying missing values, outliers, and noise."
      ],
      "metadata": {
        "id": "sS47Jj2B4uA0"
      }
    },
    {
      "cell_type": "markdown",
      "source": [
        "**Edit the pipeline:**"
      ],
      "metadata": {
        "id": "2xSi-mOhKfRs"
      }
    },
    {
      "cell_type": "code",
      "source": [
        "from sklearn.pipeline import make_pipeline\n",
        "from sklearn.impute import SimpleImputer\n",
        "from sklearn.preprocessing import StandardScaler\n",
        "from sklearn.feature_extraction.text import TfidfVectorizer\n",
        "\n",
        "num_pipeline = make_pipeline(SimpleImputer(strategy=\"median\"), StandardScaler())\n",
        "\n",
        "num_pipeline"
      ],
      "metadata": {
        "colab": {
          "base_uri": "https://localhost:8080/",
          "height": 125
        },
        "id": "TM72aa1Ess8v",
        "outputId": "8ac2663a-d93b-4488-c21c-546b20e417bc"
      },
      "execution_count": null,
      "outputs": [
        {
          "output_type": "execute_result",
          "data": {
            "text/plain": [
              "Pipeline(steps=[('simpleimputer', SimpleImputer(strategy='median')),\n",
              "                ('standardscaler', StandardScaler())])"
            ],
            "text/html": [
              "<style>#sk-container-id-1 {color: black;background-color: white;}#sk-container-id-1 pre{padding: 0;}#sk-container-id-1 div.sk-toggleable {background-color: white;}#sk-container-id-1 label.sk-toggleable__label {cursor: pointer;display: block;width: 100%;margin-bottom: 0;padding: 0.3em;box-sizing: border-box;text-align: center;}#sk-container-id-1 label.sk-toggleable__label-arrow:before {content: \"▸\";float: left;margin-right: 0.25em;color: #696969;}#sk-container-id-1 label.sk-toggleable__label-arrow:hover:before {color: black;}#sk-container-id-1 div.sk-estimator:hover label.sk-toggleable__label-arrow:before {color: black;}#sk-container-id-1 div.sk-toggleable__content {max-height: 0;max-width: 0;overflow: hidden;text-align: left;background-color: #f0f8ff;}#sk-container-id-1 div.sk-toggleable__content pre {margin: 0.2em;color: black;border-radius: 0.25em;background-color: #f0f8ff;}#sk-container-id-1 input.sk-toggleable__control:checked~div.sk-toggleable__content {max-height: 200px;max-width: 100%;overflow: auto;}#sk-container-id-1 input.sk-toggleable__control:checked~label.sk-toggleable__label-arrow:before {content: \"▾\";}#sk-container-id-1 div.sk-estimator input.sk-toggleable__control:checked~label.sk-toggleable__label {background-color: #d4ebff;}#sk-container-id-1 div.sk-label input.sk-toggleable__control:checked~label.sk-toggleable__label {background-color: #d4ebff;}#sk-container-id-1 input.sk-hidden--visually {border: 0;clip: rect(1px 1px 1px 1px);clip: rect(1px, 1px, 1px, 1px);height: 1px;margin: -1px;overflow: hidden;padding: 0;position: absolute;width: 1px;}#sk-container-id-1 div.sk-estimator {font-family: monospace;background-color: #f0f8ff;border: 1px dotted black;border-radius: 0.25em;box-sizing: border-box;margin-bottom: 0.5em;}#sk-container-id-1 div.sk-estimator:hover {background-color: #d4ebff;}#sk-container-id-1 div.sk-parallel-item::after {content: \"\";width: 100%;border-bottom: 1px solid gray;flex-grow: 1;}#sk-container-id-1 div.sk-label:hover label.sk-toggleable__label {background-color: #d4ebff;}#sk-container-id-1 div.sk-serial::before {content: \"\";position: absolute;border-left: 1px solid gray;box-sizing: border-box;top: 0;bottom: 0;left: 50%;z-index: 0;}#sk-container-id-1 div.sk-serial {display: flex;flex-direction: column;align-items: center;background-color: white;padding-right: 0.2em;padding-left: 0.2em;position: relative;}#sk-container-id-1 div.sk-item {position: relative;z-index: 1;}#sk-container-id-1 div.sk-parallel {display: flex;align-items: stretch;justify-content: center;background-color: white;position: relative;}#sk-container-id-1 div.sk-item::before, #sk-container-id-1 div.sk-parallel-item::before {content: \"\";position: absolute;border-left: 1px solid gray;box-sizing: border-box;top: 0;bottom: 0;left: 50%;z-index: -1;}#sk-container-id-1 div.sk-parallel-item {display: flex;flex-direction: column;z-index: 1;position: relative;background-color: white;}#sk-container-id-1 div.sk-parallel-item:first-child::after {align-self: flex-end;width: 50%;}#sk-container-id-1 div.sk-parallel-item:last-child::after {align-self: flex-start;width: 50%;}#sk-container-id-1 div.sk-parallel-item:only-child::after {width: 0;}#sk-container-id-1 div.sk-dashed-wrapped {border: 1px dashed gray;margin: 0 0.4em 0.5em 0.4em;box-sizing: border-box;padding-bottom: 0.4em;background-color: white;}#sk-container-id-1 div.sk-label label {font-family: monospace;font-weight: bold;display: inline-block;line-height: 1.2em;}#sk-container-id-1 div.sk-label-container {text-align: center;}#sk-container-id-1 div.sk-container {/* jupyter's `normalize.less` sets `[hidden] { display: none; }` but bootstrap.min.css set `[hidden] { display: none !important; }` so we also need the `!important` here to be able to override the default hidden behavior on the sphinx rendered scikit-learn.org. See: https://github.com/scikit-learn/scikit-learn/issues/21755 */display: inline-block !important;position: relative;}#sk-container-id-1 div.sk-text-repr-fallback {display: none;}</style><div id=\"sk-container-id-1\" class=\"sk-top-container\"><div class=\"sk-text-repr-fallback\"><pre>Pipeline(steps=[(&#x27;simpleimputer&#x27;, SimpleImputer(strategy=&#x27;median&#x27;)),\n",
              "                (&#x27;standardscaler&#x27;, StandardScaler())])</pre><b>In a Jupyter environment, please rerun this cell to show the HTML representation or trust the notebook. <br />On GitHub, the HTML representation is unable to render, please try loading this page with nbviewer.org.</b></div><div class=\"sk-container\" hidden><div class=\"sk-item sk-dashed-wrapped\"><div class=\"sk-label-container\"><div class=\"sk-label sk-toggleable\"><input class=\"sk-toggleable__control sk-hidden--visually\" id=\"sk-estimator-id-1\" type=\"checkbox\" ><label for=\"sk-estimator-id-1\" class=\"sk-toggleable__label sk-toggleable__label-arrow\">Pipeline</label><div class=\"sk-toggleable__content\"><pre>Pipeline(steps=[(&#x27;simpleimputer&#x27;, SimpleImputer(strategy=&#x27;median&#x27;)),\n",
              "                (&#x27;standardscaler&#x27;, StandardScaler())])</pre></div></div></div><div class=\"sk-serial\"><div class=\"sk-item\"><div class=\"sk-estimator sk-toggleable\"><input class=\"sk-toggleable__control sk-hidden--visually\" id=\"sk-estimator-id-2\" type=\"checkbox\" ><label for=\"sk-estimator-id-2\" class=\"sk-toggleable__label sk-toggleable__label-arrow\">SimpleImputer</label><div class=\"sk-toggleable__content\"><pre>SimpleImputer(strategy=&#x27;median&#x27;)</pre></div></div></div><div class=\"sk-item\"><div class=\"sk-estimator sk-toggleable\"><input class=\"sk-toggleable__control sk-hidden--visually\" id=\"sk-estimator-id-3\" type=\"checkbox\" ><label for=\"sk-estimator-id-3\" class=\"sk-toggleable__label sk-toggleable__label-arrow\">StandardScaler</label><div class=\"sk-toggleable__content\"><pre>StandardScaler()</pre></div></div></div></div></div></div></div>"
            ]
          },
          "metadata": {},
          "execution_count": 11
        }
      ]
    },
    {
      "cell_type": "markdown",
      "source": [
        "`num_pipeline` is an example of a pipeline object created using make_pipeline that is designed to handle numerical features.\n",
        "\n",
        "`SimpleImputer` is a class in scikit-learn used for handling missing values. By specifying the strategy as \"median\", it automatically calculates the median value for each feature and replaces the missing values with it.\n",
        "\n",
        "`StandardScaler`, It performs feature scaling on the numerical features. StandardScaler is a class in scikit-learn used for feature standardization, which scales the values of features to have a mean of 0 and a standard deviation of 1."
      ],
      "metadata": {
        "id": "aMtxXvYnMueS"
      }
    },
    {
      "cell_type": "code",
      "execution_count": null,
      "metadata": {
        "id": "i2qwvd3YAjOG",
        "outputId": "b53177f9-15f5-40df-8834-f3e51f672bc3",
        "colab": {
          "base_uri": "https://localhost:8080/",
          "height": 151
        }
      },
      "outputs": [
        {
          "output_type": "execute_result",
          "data": {
            "text/plain": [
              "ColumnTransformer(transformers=[('num',\n",
              "                                 Pipeline(steps=[('simpleimputer',\n",
              "                                                  SimpleImputer(strategy='median')),\n",
              "                                                 ('standardscaler',\n",
              "                                                  StandardScaler())]),\n",
              "                                 ['Rating_Number', 'Votes_Number',\n",
              "                                  'Computer_Score', 'Group_Rank',\n",
              "                                  'Group_Rank_Size', 'Total_Rank',\n",
              "                                  'Total_Rank_Size']),\n",
              "                                ('cat',\n",
              "                                 Pipeline(steps=[('simpleimputer',\n",
              "                                                  SimpleImputer(strategy='most_frequent')),\n",
              "                                                 ('onehotenco...\n",
              "                                 ['HDMI', 'Keyboard', 'Generation', 'GPU',\n",
              "                                  'Solid State Drive', 'Microphone In',\n",
              "                                  'Process Node', 'USB Ports', 'RAM',\n",
              "                                  'SSD Interface', 'Touch', 'Anti Glare Screen',\n",
              "                                  'Speed', 'Cores', 'Cache',\n",
              "                                  'Inbuilt Microphone', 'Utility', 'OS',\n",
              "                                  'Keyboard Backlit', 'Optical Drive',\n",
              "                                  'Resolution', 'RAM Bus Speed',\n",
              "                                  'Headphone Jack', 'Battery', 'Dimensions',\n",
              "                                  'Ethernet', 'Model', 'Size', 'Sales Package',\n",
              "                                  'PPI', ...])])"
            ],
            "text/html": [
              "<style>#sk-container-id-2 {color: black;background-color: white;}#sk-container-id-2 pre{padding: 0;}#sk-container-id-2 div.sk-toggleable {background-color: white;}#sk-container-id-2 label.sk-toggleable__label {cursor: pointer;display: block;width: 100%;margin-bottom: 0;padding: 0.3em;box-sizing: border-box;text-align: center;}#sk-container-id-2 label.sk-toggleable__label-arrow:before {content: \"▸\";float: left;margin-right: 0.25em;color: #696969;}#sk-container-id-2 label.sk-toggleable__label-arrow:hover:before {color: black;}#sk-container-id-2 div.sk-estimator:hover label.sk-toggleable__label-arrow:before {color: black;}#sk-container-id-2 div.sk-toggleable__content {max-height: 0;max-width: 0;overflow: hidden;text-align: left;background-color: #f0f8ff;}#sk-container-id-2 div.sk-toggleable__content pre {margin: 0.2em;color: black;border-radius: 0.25em;background-color: #f0f8ff;}#sk-container-id-2 input.sk-toggleable__control:checked~div.sk-toggleable__content {max-height: 200px;max-width: 100%;overflow: auto;}#sk-container-id-2 input.sk-toggleable__control:checked~label.sk-toggleable__label-arrow:before {content: \"▾\";}#sk-container-id-2 div.sk-estimator input.sk-toggleable__control:checked~label.sk-toggleable__label {background-color: #d4ebff;}#sk-container-id-2 div.sk-label input.sk-toggleable__control:checked~label.sk-toggleable__label {background-color: #d4ebff;}#sk-container-id-2 input.sk-hidden--visually {border: 0;clip: rect(1px 1px 1px 1px);clip: rect(1px, 1px, 1px, 1px);height: 1px;margin: -1px;overflow: hidden;padding: 0;position: absolute;width: 1px;}#sk-container-id-2 div.sk-estimator {font-family: monospace;background-color: #f0f8ff;border: 1px dotted black;border-radius: 0.25em;box-sizing: border-box;margin-bottom: 0.5em;}#sk-container-id-2 div.sk-estimator:hover {background-color: #d4ebff;}#sk-container-id-2 div.sk-parallel-item::after {content: \"\";width: 100%;border-bottom: 1px solid gray;flex-grow: 1;}#sk-container-id-2 div.sk-label:hover label.sk-toggleable__label {background-color: #d4ebff;}#sk-container-id-2 div.sk-serial::before {content: \"\";position: absolute;border-left: 1px solid gray;box-sizing: border-box;top: 0;bottom: 0;left: 50%;z-index: 0;}#sk-container-id-2 div.sk-serial {display: flex;flex-direction: column;align-items: center;background-color: white;padding-right: 0.2em;padding-left: 0.2em;position: relative;}#sk-container-id-2 div.sk-item {position: relative;z-index: 1;}#sk-container-id-2 div.sk-parallel {display: flex;align-items: stretch;justify-content: center;background-color: white;position: relative;}#sk-container-id-2 div.sk-item::before, #sk-container-id-2 div.sk-parallel-item::before {content: \"\";position: absolute;border-left: 1px solid gray;box-sizing: border-box;top: 0;bottom: 0;left: 50%;z-index: -1;}#sk-container-id-2 div.sk-parallel-item {display: flex;flex-direction: column;z-index: 1;position: relative;background-color: white;}#sk-container-id-2 div.sk-parallel-item:first-child::after {align-self: flex-end;width: 50%;}#sk-container-id-2 div.sk-parallel-item:last-child::after {align-self: flex-start;width: 50%;}#sk-container-id-2 div.sk-parallel-item:only-child::after {width: 0;}#sk-container-id-2 div.sk-dashed-wrapped {border: 1px dashed gray;margin: 0 0.4em 0.5em 0.4em;box-sizing: border-box;padding-bottom: 0.4em;background-color: white;}#sk-container-id-2 div.sk-label label {font-family: monospace;font-weight: bold;display: inline-block;line-height: 1.2em;}#sk-container-id-2 div.sk-label-container {text-align: center;}#sk-container-id-2 div.sk-container {/* jupyter's `normalize.less` sets `[hidden] { display: none; }` but bootstrap.min.css set `[hidden] { display: none !important; }` so we also need the `!important` here to be able to override the default hidden behavior on the sphinx rendered scikit-learn.org. See: https://github.com/scikit-learn/scikit-learn/issues/21755 */display: inline-block !important;position: relative;}#sk-container-id-2 div.sk-text-repr-fallback {display: none;}</style><div id=\"sk-container-id-2\" class=\"sk-top-container\"><div class=\"sk-text-repr-fallback\"><pre>ColumnTransformer(transformers=[(&#x27;num&#x27;,\n",
              "                                 Pipeline(steps=[(&#x27;simpleimputer&#x27;,\n",
              "                                                  SimpleImputer(strategy=&#x27;median&#x27;)),\n",
              "                                                 (&#x27;standardscaler&#x27;,\n",
              "                                                  StandardScaler())]),\n",
              "                                 [&#x27;Rating_Number&#x27;, &#x27;Votes_Number&#x27;,\n",
              "                                  &#x27;Computer_Score&#x27;, &#x27;Group_Rank&#x27;,\n",
              "                                  &#x27;Group_Rank_Size&#x27;, &#x27;Total_Rank&#x27;,\n",
              "                                  &#x27;Total_Rank_Size&#x27;]),\n",
              "                                (&#x27;cat&#x27;,\n",
              "                                 Pipeline(steps=[(&#x27;simpleimputer&#x27;,\n",
              "                                                  SimpleImputer(strategy=&#x27;most_frequent&#x27;)),\n",
              "                                                 (&#x27;onehotenco...\n",
              "                                 [&#x27;HDMI&#x27;, &#x27;Keyboard&#x27;, &#x27;Generation&#x27;, &#x27;GPU&#x27;,\n",
              "                                  &#x27;Solid State Drive&#x27;, &#x27;Microphone In&#x27;,\n",
              "                                  &#x27;Process Node&#x27;, &#x27;USB Ports&#x27;, &#x27;RAM&#x27;,\n",
              "                                  &#x27;SSD Interface&#x27;, &#x27;Touch&#x27;, &#x27;Anti Glare Screen&#x27;,\n",
              "                                  &#x27;Speed&#x27;, &#x27;Cores&#x27;, &#x27;Cache&#x27;,\n",
              "                                  &#x27;Inbuilt Microphone&#x27;, &#x27;Utility&#x27;, &#x27;OS&#x27;,\n",
              "                                  &#x27;Keyboard Backlit&#x27;, &#x27;Optical Drive&#x27;,\n",
              "                                  &#x27;Resolution&#x27;, &#x27;RAM Bus Speed&#x27;,\n",
              "                                  &#x27;Headphone Jack&#x27;, &#x27;Battery&#x27;, &#x27;Dimensions&#x27;,\n",
              "                                  &#x27;Ethernet&#x27;, &#x27;Model&#x27;, &#x27;Size&#x27;, &#x27;Sales Package&#x27;,\n",
              "                                  &#x27;PPI&#x27;, ...])])</pre><b>In a Jupyter environment, please rerun this cell to show the HTML representation or trust the notebook. <br />On GitHub, the HTML representation is unable to render, please try loading this page with nbviewer.org.</b></div><div class=\"sk-container\" hidden><div class=\"sk-item sk-dashed-wrapped\"><div class=\"sk-label-container\"><div class=\"sk-label sk-toggleable\"><input class=\"sk-toggleable__control sk-hidden--visually\" id=\"sk-estimator-id-4\" type=\"checkbox\" ><label for=\"sk-estimator-id-4\" class=\"sk-toggleable__label sk-toggleable__label-arrow\">ColumnTransformer</label><div class=\"sk-toggleable__content\"><pre>ColumnTransformer(transformers=[(&#x27;num&#x27;,\n",
              "                                 Pipeline(steps=[(&#x27;simpleimputer&#x27;,\n",
              "                                                  SimpleImputer(strategy=&#x27;median&#x27;)),\n",
              "                                                 (&#x27;standardscaler&#x27;,\n",
              "                                                  StandardScaler())]),\n",
              "                                 [&#x27;Rating_Number&#x27;, &#x27;Votes_Number&#x27;,\n",
              "                                  &#x27;Computer_Score&#x27;, &#x27;Group_Rank&#x27;,\n",
              "                                  &#x27;Group_Rank_Size&#x27;, &#x27;Total_Rank&#x27;,\n",
              "                                  &#x27;Total_Rank_Size&#x27;]),\n",
              "                                (&#x27;cat&#x27;,\n",
              "                                 Pipeline(steps=[(&#x27;simpleimputer&#x27;,\n",
              "                                                  SimpleImputer(strategy=&#x27;most_frequent&#x27;)),\n",
              "                                                 (&#x27;onehotenco...\n",
              "                                 [&#x27;HDMI&#x27;, &#x27;Keyboard&#x27;, &#x27;Generation&#x27;, &#x27;GPU&#x27;,\n",
              "                                  &#x27;Solid State Drive&#x27;, &#x27;Microphone In&#x27;,\n",
              "                                  &#x27;Process Node&#x27;, &#x27;USB Ports&#x27;, &#x27;RAM&#x27;,\n",
              "                                  &#x27;SSD Interface&#x27;, &#x27;Touch&#x27;, &#x27;Anti Glare Screen&#x27;,\n",
              "                                  &#x27;Speed&#x27;, &#x27;Cores&#x27;, &#x27;Cache&#x27;,\n",
              "                                  &#x27;Inbuilt Microphone&#x27;, &#x27;Utility&#x27;, &#x27;OS&#x27;,\n",
              "                                  &#x27;Keyboard Backlit&#x27;, &#x27;Optical Drive&#x27;,\n",
              "                                  &#x27;Resolution&#x27;, &#x27;RAM Bus Speed&#x27;,\n",
              "                                  &#x27;Headphone Jack&#x27;, &#x27;Battery&#x27;, &#x27;Dimensions&#x27;,\n",
              "                                  &#x27;Ethernet&#x27;, &#x27;Model&#x27;, &#x27;Size&#x27;, &#x27;Sales Package&#x27;,\n",
              "                                  &#x27;PPI&#x27;, ...])])</pre></div></div></div><div class=\"sk-parallel\"><div class=\"sk-parallel-item\"><div class=\"sk-item\"><div class=\"sk-label-container\"><div class=\"sk-label sk-toggleable\"><input class=\"sk-toggleable__control sk-hidden--visually\" id=\"sk-estimator-id-5\" type=\"checkbox\" ><label for=\"sk-estimator-id-5\" class=\"sk-toggleable__label sk-toggleable__label-arrow\">num</label><div class=\"sk-toggleable__content\"><pre>[&#x27;Rating_Number&#x27;, &#x27;Votes_Number&#x27;, &#x27;Computer_Score&#x27;, &#x27;Group_Rank&#x27;, &#x27;Group_Rank_Size&#x27;, &#x27;Total_Rank&#x27;, &#x27;Total_Rank_Size&#x27;]</pre></div></div></div><div class=\"sk-serial\"><div class=\"sk-item\"><div class=\"sk-serial\"><div class=\"sk-item\"><div class=\"sk-estimator sk-toggleable\"><input class=\"sk-toggleable__control sk-hidden--visually\" id=\"sk-estimator-id-6\" type=\"checkbox\" ><label for=\"sk-estimator-id-6\" class=\"sk-toggleable__label sk-toggleable__label-arrow\">SimpleImputer</label><div class=\"sk-toggleable__content\"><pre>SimpleImputer(strategy=&#x27;median&#x27;)</pre></div></div></div><div class=\"sk-item\"><div class=\"sk-estimator sk-toggleable\"><input class=\"sk-toggleable__control sk-hidden--visually\" id=\"sk-estimator-id-7\" type=\"checkbox\" ><label for=\"sk-estimator-id-7\" class=\"sk-toggleable__label sk-toggleable__label-arrow\">StandardScaler</label><div class=\"sk-toggleable__content\"><pre>StandardScaler()</pre></div></div></div></div></div></div></div></div><div class=\"sk-parallel-item\"><div class=\"sk-item\"><div class=\"sk-label-container\"><div class=\"sk-label sk-toggleable\"><input class=\"sk-toggleable__control sk-hidden--visually\" id=\"sk-estimator-id-8\" type=\"checkbox\" ><label for=\"sk-estimator-id-8\" class=\"sk-toggleable__label sk-toggleable__label-arrow\">cat</label><div class=\"sk-toggleable__content\"><pre>[&#x27;HDMI&#x27;, &#x27;Keyboard&#x27;, &#x27;Generation&#x27;, &#x27;GPU&#x27;, &#x27;Solid State Drive&#x27;, &#x27;Microphone In&#x27;, &#x27;Process Node&#x27;, &#x27;USB Ports&#x27;, &#x27;RAM&#x27;, &#x27;SSD Interface&#x27;, &#x27;Touch&#x27;, &#x27;Anti Glare Screen&#x27;, &#x27;Speed&#x27;, &#x27;Cores&#x27;, &#x27;Cache&#x27;, &#x27;Inbuilt Microphone&#x27;, &#x27;Utility&#x27;, &#x27;OS&#x27;, &#x27;Keyboard Backlit&#x27;, &#x27;Optical Drive&#x27;, &#x27;Resolution&#x27;, &#x27;RAM Bus Speed&#x27;, &#x27;Headphone Jack&#x27;, &#x27;Battery&#x27;, &#x27;Dimensions&#x27;, &#x27;Ethernet&#x27;, &#x27;Model&#x27;, &#x27;Size&#x27;, &#x27;Sales Package&#x27;, &#x27;PPI&#x27;, &#x27;Speakers&#x27;, &#x27;Camera&#x27;, &#x27;WiFi&#x27;, &#x27;Brand&#x27;, &#x27;Series&#x27;, &#x27;Battery Details&#x27;, &#x27;Type&#x27;, &#x27;Touchpad&#x27;, &#x27;Warranty&#x27;, &#x27;Features&#x27;, &#x27;Security Lock Port&#x27;, &#x27;Processor&#x27;, &#x27;Adapter Type&#x27;, &#x27;Bluetooth&#x27;, &#x27;Weight&#x27;, &#x27;Device Type&#x27;]</pre></div></div></div><div class=\"sk-serial\"><div class=\"sk-item\"><div class=\"sk-serial\"><div class=\"sk-item\"><div class=\"sk-estimator sk-toggleable\"><input class=\"sk-toggleable__control sk-hidden--visually\" id=\"sk-estimator-id-9\" type=\"checkbox\" ><label for=\"sk-estimator-id-9\" class=\"sk-toggleable__label sk-toggleable__label-arrow\">SimpleImputer</label><div class=\"sk-toggleable__content\"><pre>SimpleImputer(strategy=&#x27;most_frequent&#x27;)</pre></div></div></div><div class=\"sk-item\"><div class=\"sk-estimator sk-toggleable\"><input class=\"sk-toggleable__control sk-hidden--visually\" id=\"sk-estimator-id-10\" type=\"checkbox\" ><label for=\"sk-estimator-id-10\" class=\"sk-toggleable__label sk-toggleable__label-arrow\">OneHotEncoder</label><div class=\"sk-toggleable__content\"><pre>OneHotEncoder(handle_unknown=&#x27;ignore&#x27;, sparse=False)</pre></div></div></div></div></div></div></div></div></div></div></div></div>"
            ]
          },
          "metadata": {},
          "execution_count": 12
        }
      ],
      "source": [
        "computer_num_prepared = num_pipeline.fit_transform(computer_num)\n",
        "columns = num_pipeline.get_feature_names_out()\n",
        "df_computer_num_prepared = pd.DataFrame(computer_num_prepared,\n",
        "                                       columns=num_pipeline.get_feature_names_out())\n",
        "from sklearn.preprocessing import OneHotEncoder\n",
        "from sklearn.compose import ColumnTransformer\n",
        "\n",
        "num_attribs = computer.select_dtypes(include='number').columns.tolist()\n",
        "\n",
        "cat_attribs = computer.select_dtypes(exclude='number').columns.tolist()\n",
        "\n",
        "cat_pipeline = make_pipeline(\n",
        "    SimpleImputer(strategy=\"most_frequent\"),\n",
        "    OneHotEncoder(handle_unknown=\"ignore\", sparse=False))\n",
        "\n",
        "\n",
        "preprocessing = ColumnTransformer([\n",
        "    (\"num\", num_pipeline, num_attribs),\n",
        "    (\"cat\", cat_pipeline, cat_attribs)])\n",
        "\n",
        "preprocessing\n"
      ]
    },
    {
      "cell_type": "markdown",
      "source": [
        "`num_attribs` is all the column with value is numerical type.\n",
        "\n",
        "`cat_attribs`  is all the column with value is text type.\n",
        "\n",
        "The `SimpleImputer` in `cat_pipeline` is used to do the most frequent strategy to fill missing values in categorical features.\n",
        "\n",
        "`OneHotEncoder(handle_unknown=\"ignore\", sparse=False)`: It performs one-hot encoding on the categorical features. OneHotEncoder is a class in scikit-learn used for one-hot encoding categorical variables. By setting `handle_unknown=\"ignore\"`, it ignores unknown categories during encoding. The `sparse=False` argument ensures that the encoded features are returned as a dense array.\n",
        "\n",
        "The `ColumnTransformer` class allows us to specify transformers and their corresponding subsets of columns or features. In this case, the preprocessing object is created using ColumnTransformer with two transformers:`(\"num\", num_pipeline, num_attribs)` and `(\"cat\", cat_pipeline, cat_attribs)`. By using ColumnTransformer, we can combine these transformers into a single preprocessing pipeline that applies the respective transformations to the numerical and categorical features.\n",
        "\n"
      ],
      "metadata": {
        "id": "CcvbMKOmLA-H"
      }
    },
    {
      "cell_type": "markdown",
      "source": [
        "**Dividing the test set and training set:**\n",
        "\n",
        "\n"
      ],
      "metadata": {
        "id": "xtYVCX16O4Sc"
      }
    },
    {
      "cell_type": "code",
      "source": [
        "# computer_prepared = preprocessing.fit_transform(computer)\n",
        "# df_computer_prepared = pd.DataFrame(computer_prepared, columns=preprocessing.get_feature_names_out())\n",
        "# df_computer_labels = pd.DataFrame(computer_labels, columns=['Price'])\n",
        "\n",
        "from sklearn.model_selection import train_test_split\n",
        "train_data,test_data,train_labels,test_labels = train_test_split(computer, computer_labels, test_size=0.2, random_state=42)\n"
      ],
      "metadata": {
        "id": "ZWywaES4uJ0q"
      },
      "execution_count": null,
      "outputs": []
    },
    {
      "cell_type": "markdown",
      "source": [
        "In this code snippet:\n",
        "\n",
        "`train_test_split` is a function used to split the dataset into random train and test subsets.\n",
        "\n",
        "`computer` refers to the input data or features of your dataset.\n",
        "\n",
        "`computer_labels` refers to the corresponding labels or target values for the input data.\n",
        "\n",
        "`test_size=0.2` specifies the proportion of the dataset that should be allocated to the test set. In this case, 20% of the data will be used for testing, while the remaining 80% will be used for training.\n",
        "\n",
        "`random_state=42` sets the random seed for reproducibility. It ensures that the data is split in the same way each time you run the code, allowing for consistent results.\n",
        "\n",
        "After executing the code, the dataset is split into train_data and test_data for the input features, and train_labels and test_labels for the corresponding target values."
      ],
      "metadata": {
        "id": "TFNy7pgPPGln"
      }
    },
    {
      "cell_type": "markdown",
      "source": [
        "##Section 4:Machine Learning.\n",
        "In this section, we will compare the effectiveness of supervised and unsupervised models for computer price prediction.\n",
        "\n",
        "The supervised learning model we will use includes linear regression, decision tree regression.\n",
        "\n",
        "The unsupervised learning model we will use is Principal Component Analysis(PCA).\n",
        "\n"
      ],
      "metadata": {
        "id": "Rtt8LxYi328C"
      }
    },
    {
      "cell_type": "markdown",
      "source": [
        "**Linear Regression:**\n",
        "\n",
        "Linear regression is a supervised machine learning algorithm used for predicting a continuous target variable based on one or more input features. It assumes a linear relationship between the input features and the target variable.\n",
        "\n",
        "The equation of a simple linear regression model with one input feature is given by: **$y$ = $b_0$ + $b_1$*$x$**\n",
        "\n",
        "**$y$** is the predicted value or the target variable.\n",
        "\n",
        "**$b_0$** is the y-intercept, which represents the predicted value of $y$ when $x$ is 0.\n",
        "\n",
        "**$b_1$** is the slope of the line, which represents the change in the predicted value of $y$ for a unit change in $x$.\n",
        "\n",
        "**$x$** is the input feature or independent variable\n",
        "\n",
        "The equation for multiple linear regression is an extension of the simple linear regression equation, including coefficients for each input feature:**$y$ = $b_0$ + $b_1$*$x_1$ + $b_2$*$x_2$ + ...+ $b_n$*$x_n$**\n",
        "\n",
        "In our project, we used linear regression to predict computer price.Where the price should be $y$, and other attributes should be $x_n$, we train the model to find suitable $b$.\n",
        "\n"
      ],
      "metadata": {
        "id": "8zbo3_-05WSn"
      }
    },
    {
      "cell_type": "markdown",
      "source": [
        "**Do linear regression:**"
      ],
      "metadata": {
        "id": "Yq7vMcOQBiZd"
      }
    },
    {
      "cell_type": "code",
      "source": [
        "from sklearn.linear_model import LinearRegression\n",
        "\n",
        "lin_reg = make_pipeline(preprocessing, LinearRegression())\n",
        "\n",
        "lin_reg.fit(train_data, train_labels)"
      ],
      "metadata": {
        "colab": {
          "base_uri": "https://localhost:8080/",
          "height": 225
        },
        "id": "SZOUQVXq1_EL",
        "outputId": "0e864335-3076-40d8-8ae6-483f1f3cbe53"
      },
      "execution_count": null,
      "outputs": [
        {
          "output_type": "execute_result",
          "data": {
            "text/plain": [
              "Pipeline(steps=[('columntransformer',\n",
              "                 ColumnTransformer(transformers=[('num',\n",
              "                                                  Pipeline(steps=[('simpleimputer',\n",
              "                                                                   SimpleImputer(strategy='median')),\n",
              "                                                                  ('standardscaler',\n",
              "                                                                   StandardScaler())]),\n",
              "                                                  ['Rating_Number',\n",
              "                                                   'Votes_Number',\n",
              "                                                   'Computer_Score',\n",
              "                                                   'Group_Rank',\n",
              "                                                   'Group_Rank_Size',\n",
              "                                                   'Total_Rank',\n",
              "                                                   'Total_Rank_Size']),\n",
              "                                                 ('cat',\n",
              "                                                  Pipeline(steps=[('simpleimputer',\n",
              "                                                                   SimpleImputer(st...\n",
              "                                                   'Solid State Drive',\n",
              "                                                   'Microphone In',\n",
              "                                                   'Process Node', 'USB Ports',\n",
              "                                                   'RAM', 'SSD Interface',\n",
              "                                                   'Touch', 'Anti Glare Screen',\n",
              "                                                   'Speed', 'Cores', 'Cache',\n",
              "                                                   'Inbuilt Microphone',\n",
              "                                                   'Utility', 'OS',\n",
              "                                                   'Keyboard Backlit',\n",
              "                                                   'Optical Drive',\n",
              "                                                   'Resolution',\n",
              "                                                   'RAM Bus Speed',\n",
              "                                                   'Headphone Jack', 'Battery',\n",
              "                                                   'Dimensions', 'Ethernet',\n",
              "                                                   'Model', 'Size',\n",
              "                                                   'Sales Package', 'PPI', ...])])),\n",
              "                ('linearregression', LinearRegression())])"
            ],
            "text/html": [
              "<style>#sk-container-id-3 {color: black;background-color: white;}#sk-container-id-3 pre{padding: 0;}#sk-container-id-3 div.sk-toggleable {background-color: white;}#sk-container-id-3 label.sk-toggleable__label {cursor: pointer;display: block;width: 100%;margin-bottom: 0;padding: 0.3em;box-sizing: border-box;text-align: center;}#sk-container-id-3 label.sk-toggleable__label-arrow:before {content: \"▸\";float: left;margin-right: 0.25em;color: #696969;}#sk-container-id-3 label.sk-toggleable__label-arrow:hover:before {color: black;}#sk-container-id-3 div.sk-estimator:hover label.sk-toggleable__label-arrow:before {color: black;}#sk-container-id-3 div.sk-toggleable__content {max-height: 0;max-width: 0;overflow: hidden;text-align: left;background-color: #f0f8ff;}#sk-container-id-3 div.sk-toggleable__content pre {margin: 0.2em;color: black;border-radius: 0.25em;background-color: #f0f8ff;}#sk-container-id-3 input.sk-toggleable__control:checked~div.sk-toggleable__content {max-height: 200px;max-width: 100%;overflow: auto;}#sk-container-id-3 input.sk-toggleable__control:checked~label.sk-toggleable__label-arrow:before {content: \"▾\";}#sk-container-id-3 div.sk-estimator input.sk-toggleable__control:checked~label.sk-toggleable__label {background-color: #d4ebff;}#sk-container-id-3 div.sk-label input.sk-toggleable__control:checked~label.sk-toggleable__label {background-color: #d4ebff;}#sk-container-id-3 input.sk-hidden--visually {border: 0;clip: rect(1px 1px 1px 1px);clip: rect(1px, 1px, 1px, 1px);height: 1px;margin: -1px;overflow: hidden;padding: 0;position: absolute;width: 1px;}#sk-container-id-3 div.sk-estimator {font-family: monospace;background-color: #f0f8ff;border: 1px dotted black;border-radius: 0.25em;box-sizing: border-box;margin-bottom: 0.5em;}#sk-container-id-3 div.sk-estimator:hover {background-color: #d4ebff;}#sk-container-id-3 div.sk-parallel-item::after {content: \"\";width: 100%;border-bottom: 1px solid gray;flex-grow: 1;}#sk-container-id-3 div.sk-label:hover label.sk-toggleable__label {background-color: #d4ebff;}#sk-container-id-3 div.sk-serial::before {content: \"\";position: absolute;border-left: 1px solid gray;box-sizing: border-box;top: 0;bottom: 0;left: 50%;z-index: 0;}#sk-container-id-3 div.sk-serial {display: flex;flex-direction: column;align-items: center;background-color: white;padding-right: 0.2em;padding-left: 0.2em;position: relative;}#sk-container-id-3 div.sk-item {position: relative;z-index: 1;}#sk-container-id-3 div.sk-parallel {display: flex;align-items: stretch;justify-content: center;background-color: white;position: relative;}#sk-container-id-3 div.sk-item::before, #sk-container-id-3 div.sk-parallel-item::before {content: \"\";position: absolute;border-left: 1px solid gray;box-sizing: border-box;top: 0;bottom: 0;left: 50%;z-index: -1;}#sk-container-id-3 div.sk-parallel-item {display: flex;flex-direction: column;z-index: 1;position: relative;background-color: white;}#sk-container-id-3 div.sk-parallel-item:first-child::after {align-self: flex-end;width: 50%;}#sk-container-id-3 div.sk-parallel-item:last-child::after {align-self: flex-start;width: 50%;}#sk-container-id-3 div.sk-parallel-item:only-child::after {width: 0;}#sk-container-id-3 div.sk-dashed-wrapped {border: 1px dashed gray;margin: 0 0.4em 0.5em 0.4em;box-sizing: border-box;padding-bottom: 0.4em;background-color: white;}#sk-container-id-3 div.sk-label label {font-family: monospace;font-weight: bold;display: inline-block;line-height: 1.2em;}#sk-container-id-3 div.sk-label-container {text-align: center;}#sk-container-id-3 div.sk-container {/* jupyter's `normalize.less` sets `[hidden] { display: none; }` but bootstrap.min.css set `[hidden] { display: none !important; }` so we also need the `!important` here to be able to override the default hidden behavior on the sphinx rendered scikit-learn.org. See: https://github.com/scikit-learn/scikit-learn/issues/21755 */display: inline-block !important;position: relative;}#sk-container-id-3 div.sk-text-repr-fallback {display: none;}</style><div id=\"sk-container-id-3\" class=\"sk-top-container\"><div class=\"sk-text-repr-fallback\"><pre>Pipeline(steps=[(&#x27;columntransformer&#x27;,\n",
              "                 ColumnTransformer(transformers=[(&#x27;num&#x27;,\n",
              "                                                  Pipeline(steps=[(&#x27;simpleimputer&#x27;,\n",
              "                                                                   SimpleImputer(strategy=&#x27;median&#x27;)),\n",
              "                                                                  (&#x27;standardscaler&#x27;,\n",
              "                                                                   StandardScaler())]),\n",
              "                                                  [&#x27;Rating_Number&#x27;,\n",
              "                                                   &#x27;Votes_Number&#x27;,\n",
              "                                                   &#x27;Computer_Score&#x27;,\n",
              "                                                   &#x27;Group_Rank&#x27;,\n",
              "                                                   &#x27;Group_Rank_Size&#x27;,\n",
              "                                                   &#x27;Total_Rank&#x27;,\n",
              "                                                   &#x27;Total_Rank_Size&#x27;]),\n",
              "                                                 (&#x27;cat&#x27;,\n",
              "                                                  Pipeline(steps=[(&#x27;simpleimputer&#x27;,\n",
              "                                                                   SimpleImputer(st...\n",
              "                                                   &#x27;Solid State Drive&#x27;,\n",
              "                                                   &#x27;Microphone In&#x27;,\n",
              "                                                   &#x27;Process Node&#x27;, &#x27;USB Ports&#x27;,\n",
              "                                                   &#x27;RAM&#x27;, &#x27;SSD Interface&#x27;,\n",
              "                                                   &#x27;Touch&#x27;, &#x27;Anti Glare Screen&#x27;,\n",
              "                                                   &#x27;Speed&#x27;, &#x27;Cores&#x27;, &#x27;Cache&#x27;,\n",
              "                                                   &#x27;Inbuilt Microphone&#x27;,\n",
              "                                                   &#x27;Utility&#x27;, &#x27;OS&#x27;,\n",
              "                                                   &#x27;Keyboard Backlit&#x27;,\n",
              "                                                   &#x27;Optical Drive&#x27;,\n",
              "                                                   &#x27;Resolution&#x27;,\n",
              "                                                   &#x27;RAM Bus Speed&#x27;,\n",
              "                                                   &#x27;Headphone Jack&#x27;, &#x27;Battery&#x27;,\n",
              "                                                   &#x27;Dimensions&#x27;, &#x27;Ethernet&#x27;,\n",
              "                                                   &#x27;Model&#x27;, &#x27;Size&#x27;,\n",
              "                                                   &#x27;Sales Package&#x27;, &#x27;PPI&#x27;, ...])])),\n",
              "                (&#x27;linearregression&#x27;, LinearRegression())])</pre><b>In a Jupyter environment, please rerun this cell to show the HTML representation or trust the notebook. <br />On GitHub, the HTML representation is unable to render, please try loading this page with nbviewer.org.</b></div><div class=\"sk-container\" hidden><div class=\"sk-item sk-dashed-wrapped\"><div class=\"sk-label-container\"><div class=\"sk-label sk-toggleable\"><input class=\"sk-toggleable__control sk-hidden--visually\" id=\"sk-estimator-id-11\" type=\"checkbox\" ><label for=\"sk-estimator-id-11\" class=\"sk-toggleable__label sk-toggleable__label-arrow\">Pipeline</label><div class=\"sk-toggleable__content\"><pre>Pipeline(steps=[(&#x27;columntransformer&#x27;,\n",
              "                 ColumnTransformer(transformers=[(&#x27;num&#x27;,\n",
              "                                                  Pipeline(steps=[(&#x27;simpleimputer&#x27;,\n",
              "                                                                   SimpleImputer(strategy=&#x27;median&#x27;)),\n",
              "                                                                  (&#x27;standardscaler&#x27;,\n",
              "                                                                   StandardScaler())]),\n",
              "                                                  [&#x27;Rating_Number&#x27;,\n",
              "                                                   &#x27;Votes_Number&#x27;,\n",
              "                                                   &#x27;Computer_Score&#x27;,\n",
              "                                                   &#x27;Group_Rank&#x27;,\n",
              "                                                   &#x27;Group_Rank_Size&#x27;,\n",
              "                                                   &#x27;Total_Rank&#x27;,\n",
              "                                                   &#x27;Total_Rank_Size&#x27;]),\n",
              "                                                 (&#x27;cat&#x27;,\n",
              "                                                  Pipeline(steps=[(&#x27;simpleimputer&#x27;,\n",
              "                                                                   SimpleImputer(st...\n",
              "                                                   &#x27;Solid State Drive&#x27;,\n",
              "                                                   &#x27;Microphone In&#x27;,\n",
              "                                                   &#x27;Process Node&#x27;, &#x27;USB Ports&#x27;,\n",
              "                                                   &#x27;RAM&#x27;, &#x27;SSD Interface&#x27;,\n",
              "                                                   &#x27;Touch&#x27;, &#x27;Anti Glare Screen&#x27;,\n",
              "                                                   &#x27;Speed&#x27;, &#x27;Cores&#x27;, &#x27;Cache&#x27;,\n",
              "                                                   &#x27;Inbuilt Microphone&#x27;,\n",
              "                                                   &#x27;Utility&#x27;, &#x27;OS&#x27;,\n",
              "                                                   &#x27;Keyboard Backlit&#x27;,\n",
              "                                                   &#x27;Optical Drive&#x27;,\n",
              "                                                   &#x27;Resolution&#x27;,\n",
              "                                                   &#x27;RAM Bus Speed&#x27;,\n",
              "                                                   &#x27;Headphone Jack&#x27;, &#x27;Battery&#x27;,\n",
              "                                                   &#x27;Dimensions&#x27;, &#x27;Ethernet&#x27;,\n",
              "                                                   &#x27;Model&#x27;, &#x27;Size&#x27;,\n",
              "                                                   &#x27;Sales Package&#x27;, &#x27;PPI&#x27;, ...])])),\n",
              "                (&#x27;linearregression&#x27;, LinearRegression())])</pre></div></div></div><div class=\"sk-serial\"><div class=\"sk-item sk-dashed-wrapped\"><div class=\"sk-label-container\"><div class=\"sk-label sk-toggleable\"><input class=\"sk-toggleable__control sk-hidden--visually\" id=\"sk-estimator-id-12\" type=\"checkbox\" ><label for=\"sk-estimator-id-12\" class=\"sk-toggleable__label sk-toggleable__label-arrow\">columntransformer: ColumnTransformer</label><div class=\"sk-toggleable__content\"><pre>ColumnTransformer(transformers=[(&#x27;num&#x27;,\n",
              "                                 Pipeline(steps=[(&#x27;simpleimputer&#x27;,\n",
              "                                                  SimpleImputer(strategy=&#x27;median&#x27;)),\n",
              "                                                 (&#x27;standardscaler&#x27;,\n",
              "                                                  StandardScaler())]),\n",
              "                                 [&#x27;Rating_Number&#x27;, &#x27;Votes_Number&#x27;,\n",
              "                                  &#x27;Computer_Score&#x27;, &#x27;Group_Rank&#x27;,\n",
              "                                  &#x27;Group_Rank_Size&#x27;, &#x27;Total_Rank&#x27;,\n",
              "                                  &#x27;Total_Rank_Size&#x27;]),\n",
              "                                (&#x27;cat&#x27;,\n",
              "                                 Pipeline(steps=[(&#x27;simpleimputer&#x27;,\n",
              "                                                  SimpleImputer(strategy=&#x27;most_frequent&#x27;)),\n",
              "                                                 (&#x27;onehotenco...\n",
              "                                 [&#x27;HDMI&#x27;, &#x27;Keyboard&#x27;, &#x27;Generation&#x27;, &#x27;GPU&#x27;,\n",
              "                                  &#x27;Solid State Drive&#x27;, &#x27;Microphone In&#x27;,\n",
              "                                  &#x27;Process Node&#x27;, &#x27;USB Ports&#x27;, &#x27;RAM&#x27;,\n",
              "                                  &#x27;SSD Interface&#x27;, &#x27;Touch&#x27;, &#x27;Anti Glare Screen&#x27;,\n",
              "                                  &#x27;Speed&#x27;, &#x27;Cores&#x27;, &#x27;Cache&#x27;,\n",
              "                                  &#x27;Inbuilt Microphone&#x27;, &#x27;Utility&#x27;, &#x27;OS&#x27;,\n",
              "                                  &#x27;Keyboard Backlit&#x27;, &#x27;Optical Drive&#x27;,\n",
              "                                  &#x27;Resolution&#x27;, &#x27;RAM Bus Speed&#x27;,\n",
              "                                  &#x27;Headphone Jack&#x27;, &#x27;Battery&#x27;, &#x27;Dimensions&#x27;,\n",
              "                                  &#x27;Ethernet&#x27;, &#x27;Model&#x27;, &#x27;Size&#x27;, &#x27;Sales Package&#x27;,\n",
              "                                  &#x27;PPI&#x27;, ...])])</pre></div></div></div><div class=\"sk-parallel\"><div class=\"sk-parallel-item\"><div class=\"sk-item\"><div class=\"sk-label-container\"><div class=\"sk-label sk-toggleable\"><input class=\"sk-toggleable__control sk-hidden--visually\" id=\"sk-estimator-id-13\" type=\"checkbox\" ><label for=\"sk-estimator-id-13\" class=\"sk-toggleable__label sk-toggleable__label-arrow\">num</label><div class=\"sk-toggleable__content\"><pre>[&#x27;Rating_Number&#x27;, &#x27;Votes_Number&#x27;, &#x27;Computer_Score&#x27;, &#x27;Group_Rank&#x27;, &#x27;Group_Rank_Size&#x27;, &#x27;Total_Rank&#x27;, &#x27;Total_Rank_Size&#x27;]</pre></div></div></div><div class=\"sk-serial\"><div class=\"sk-item\"><div class=\"sk-serial\"><div class=\"sk-item\"><div class=\"sk-estimator sk-toggleable\"><input class=\"sk-toggleable__control sk-hidden--visually\" id=\"sk-estimator-id-14\" type=\"checkbox\" ><label for=\"sk-estimator-id-14\" class=\"sk-toggleable__label sk-toggleable__label-arrow\">SimpleImputer</label><div class=\"sk-toggleable__content\"><pre>SimpleImputer(strategy=&#x27;median&#x27;)</pre></div></div></div><div class=\"sk-item\"><div class=\"sk-estimator sk-toggleable\"><input class=\"sk-toggleable__control sk-hidden--visually\" id=\"sk-estimator-id-15\" type=\"checkbox\" ><label for=\"sk-estimator-id-15\" class=\"sk-toggleable__label sk-toggleable__label-arrow\">StandardScaler</label><div class=\"sk-toggleable__content\"><pre>StandardScaler()</pre></div></div></div></div></div></div></div></div><div class=\"sk-parallel-item\"><div class=\"sk-item\"><div class=\"sk-label-container\"><div class=\"sk-label sk-toggleable\"><input class=\"sk-toggleable__control sk-hidden--visually\" id=\"sk-estimator-id-16\" type=\"checkbox\" ><label for=\"sk-estimator-id-16\" class=\"sk-toggleable__label sk-toggleable__label-arrow\">cat</label><div class=\"sk-toggleable__content\"><pre>[&#x27;HDMI&#x27;, &#x27;Keyboard&#x27;, &#x27;Generation&#x27;, &#x27;GPU&#x27;, &#x27;Solid State Drive&#x27;, &#x27;Microphone In&#x27;, &#x27;Process Node&#x27;, &#x27;USB Ports&#x27;, &#x27;RAM&#x27;, &#x27;SSD Interface&#x27;, &#x27;Touch&#x27;, &#x27;Anti Glare Screen&#x27;, &#x27;Speed&#x27;, &#x27;Cores&#x27;, &#x27;Cache&#x27;, &#x27;Inbuilt Microphone&#x27;, &#x27;Utility&#x27;, &#x27;OS&#x27;, &#x27;Keyboard Backlit&#x27;, &#x27;Optical Drive&#x27;, &#x27;Resolution&#x27;, &#x27;RAM Bus Speed&#x27;, &#x27;Headphone Jack&#x27;, &#x27;Battery&#x27;, &#x27;Dimensions&#x27;, &#x27;Ethernet&#x27;, &#x27;Model&#x27;, &#x27;Size&#x27;, &#x27;Sales Package&#x27;, &#x27;PPI&#x27;, &#x27;Speakers&#x27;, &#x27;Camera&#x27;, &#x27;WiFi&#x27;, &#x27;Brand&#x27;, &#x27;Series&#x27;, &#x27;Battery Details&#x27;, &#x27;Type&#x27;, &#x27;Touchpad&#x27;, &#x27;Warranty&#x27;, &#x27;Features&#x27;, &#x27;Security Lock Port&#x27;, &#x27;Processor&#x27;, &#x27;Adapter Type&#x27;, &#x27;Bluetooth&#x27;, &#x27;Weight&#x27;, &#x27;Device Type&#x27;]</pre></div></div></div><div class=\"sk-serial\"><div class=\"sk-item\"><div class=\"sk-serial\"><div class=\"sk-item\"><div class=\"sk-estimator sk-toggleable\"><input class=\"sk-toggleable__control sk-hidden--visually\" id=\"sk-estimator-id-17\" type=\"checkbox\" ><label for=\"sk-estimator-id-17\" class=\"sk-toggleable__label sk-toggleable__label-arrow\">SimpleImputer</label><div class=\"sk-toggleable__content\"><pre>SimpleImputer(strategy=&#x27;most_frequent&#x27;)</pre></div></div></div><div class=\"sk-item\"><div class=\"sk-estimator sk-toggleable\"><input class=\"sk-toggleable__control sk-hidden--visually\" id=\"sk-estimator-id-18\" type=\"checkbox\" ><label for=\"sk-estimator-id-18\" class=\"sk-toggleable__label sk-toggleable__label-arrow\">OneHotEncoder</label><div class=\"sk-toggleable__content\"><pre>OneHotEncoder(handle_unknown=&#x27;ignore&#x27;, sparse=False)</pre></div></div></div></div></div></div></div></div></div></div><div class=\"sk-item\"><div class=\"sk-estimator sk-toggleable\"><input class=\"sk-toggleable__control sk-hidden--visually\" id=\"sk-estimator-id-19\" type=\"checkbox\" ><label for=\"sk-estimator-id-19\" class=\"sk-toggleable__label sk-toggleable__label-arrow\">LinearRegression</label><div class=\"sk-toggleable__content\"><pre>LinearRegression()</pre></div></div></div></div></div></div></div>"
            ]
          },
          "metadata": {},
          "execution_count": 14
        }
      ]
    },
    {
      "cell_type": "markdown",
      "source": [
        "\n",
        "In this code, the `LinearRegression` class is imported from `sklearn.linear_model`, and the `make_pipeline` function is imported from `sklearn.pipeline`.\n",
        "\n",
        "The `make_pipeline` function is used to create a pipeline by concatenating the preprocessing steps defined in the `preprocessing` object (which typically consists of transformers like `ColumnTransformer`) with the `LinearRegression` estimator. This pipeline combines the data preprocessing steps and the linear regression model into a single object.\n",
        "\n",
        "The `fit` method is then called on the `lin_reg` object, which fits the pipeline to the training data `train_data` and the corresponding target labels `train_labels`. This step trains the linear regression model using the preprocessed data."
      ],
      "metadata": {
        "id": "g3yPaZe59Tcb"
      }
    },
    {
      "cell_type": "code",
      "source": [
        "lin_predictions = lin_reg.predict(test_data)"
      ],
      "metadata": {
        "id": "ZYLaxNwd2W23"
      },
      "execution_count": null,
      "outputs": []
    },
    {
      "cell_type": "markdown",
      "source": [
        "The code `lin_predictions = lin_reg.predict(test_data)` is used to obtain predictions on the test data using the trained linear regression model (`lin_reg`)."
      ],
      "metadata": {
        "id": "3FS7WdH0-Ipb"
      }
    },
    {
      "cell_type": "markdown",
      "source": [
        "**The Accuracy of Linear Regression:**"
      ],
      "metadata": {
        "id": "G0xEAi5f5sQC"
      }
    },
    {
      "cell_type": "code",
      "source": [
        "from sklearn.metrics import mean_squared_error\n",
        "\n",
        "lin_rmse = mean_squared_error(test_labels, lin_predictions, squared=False)\n",
        "lin_rmse"
      ],
      "metadata": {
        "colab": {
          "base_uri": "https://localhost:8080/"
        },
        "id": "p2DJeODD2qfo",
        "outputId": "a6c4ef45-8808-4d3c-8088-3f4b6bf0e03a"
      },
      "execution_count": null,
      "outputs": [
        {
          "output_type": "execute_result",
          "data": {
            "text/plain": [
              "5.860929990479504e+16"
            ]
          },
          "metadata": {},
          "execution_count": 16
        }
      ]
    },
    {
      "cell_type": "markdown",
      "source": [
        "Here we calculated the root mean squared error (RMSE) between the predicted values and the actual target values. It measures the average difference between the predictions and the true values, providing an evaluation of the performance of the linear regression model. A lower RMSE indicates better model performance, indicating smaller prediction errors."
      ],
      "metadata": {
        "id": "FFzn-hXx-oiC"
      }
    },
    {
      "cell_type": "markdown",
      "source": [
        "**Decision Tree Regression:**\n",
        "\n",
        "After doing the linear regression, we want train another model to make a comparison, we select decision tree regression. Because in contrast to linear regression, which relies purely on mathematical formulas, the decision tree model is an exception to the rule that relies less on mathematical formulas.\n",
        "\n",
        "In a decision tree, the algorithm builds a tree-like model by recursively partitioning the input space based on the values of input features. Each partition corresponds to a leaf node in the tree, which represents a prediction or a decision. The splitting of the input space is determined based on certain criteria, such as maximizing information gain or minimizing impurity, depending on whether it's a classification or regression task.\n",
        "\n",
        "In the context of decision tree regression, the algorithm constructs a decision tree specifically tailored for regression problems. It recursively splits the data based on feature values to create partitions that minimize the mean squared error (MSE) or other regression-specific cost functions. The predicted output value for a given input is typically the average (or weighted average) of the target values within the leaf node where that input falls."
      ],
      "metadata": {
        "id": "ekz9Li6z5xaJ"
      }
    },
    {
      "cell_type": "code",
      "source": [
        "from sklearn.tree import DecisionTreeRegressor\n",
        "\n",
        "tree_reg = make_pipeline(preprocessing, DecisionTreeRegressor())\n",
        "\n",
        "tree_reg.fit(train_data, train_labels)\n",
        "\n",
        "tree_predictions = tree_reg.predict(test_data)"
      ],
      "metadata": {
        "id": "93qfCoq_2yb0"
      },
      "execution_count": null,
      "outputs": []
    },
    {
      "cell_type": "markdown",
      "source": [
        "Using scikit-learn's `DecisionTreeRegressor` and `make_pipeline` functions to create a pipeline with a decision tree regression model. The pipeline combines the data preprocessing steps defined in the `preprocessing` object with the decision tree regression model. The model is then trained on the training data using the `fit` method. Subsequently, predictions are made on the test data using the trained model."
      ],
      "metadata": {
        "id": "qsfJLPeS--1d"
      }
    },
    {
      "cell_type": "markdown",
      "source": [
        "**The Accuracy Decision Tree Regression:**"
      ],
      "metadata": {
        "id": "St6oougn59Mh"
      }
    },
    {
      "cell_type": "code",
      "source": [
        "tree_rmse = mean_squared_error(test_labels,tree_predictions,squared=False)\n",
        "tree_rmse"
      ],
      "metadata": {
        "id": "XjHoVYY555q5",
        "colab": {
          "base_uri": "https://localhost:8080/"
        },
        "outputId": "cccc276d-a955-4abc-9775-41b14fd94c40"
      },
      "execution_count": null,
      "outputs": [
        {
          "output_type": "execute_result",
          "data": {
            "text/plain": [
              "12083.07086717119"
            ]
          },
          "metadata": {},
          "execution_count": 18
        }
      ]
    },
    {
      "cell_type": "markdown",
      "source": [
        "Now we calculate the RMSE of decision tree regression"
      ],
      "metadata": {
        "id": "zqlMgVCW_X_S"
      }
    },
    {
      "cell_type": "markdown",
      "source": [
        "**Fine-Tune Decision Tree Regression:**\n",
        "\n",
        "Since the above decision tree regression does not perform well, the results of RMSE are large compared to linear regression. So we want to optimize our decision tree regression model to find good parameters.\n",
        "\n",
        "The **Grid Search** is a good method, because grid search in scikit-learn is a technique for finding the optimal hyperparameters of a model. It involves defining a grid of hyperparameter values, fitting the model with each combination, and selecting the best-performing model based on an evaluation metric. This process automates hyperparameter tuning and saves time and effort.\n"
      ],
      "metadata": {
        "id": "G584D6fg6Dac"
      }
    },
    {
      "cell_type": "code",
      "source": [
        "from sklearn.model_selection import GridSearchCV\n",
        "from sklearn.pipeline import Pipeline\n",
        "from sklearn.tree import DecisionTreeRegressor\n",
        "\n",
        "full_pipeline = Pipeline([\n",
        "    (\"preprocessing\", preprocessing),\n",
        "    (\"decision_tree\", DecisionTreeRegressor(random_state=42))\n",
        "])\n",
        "\n",
        "param_grid = [\n",
        "    {'decision_tree__max_depth': [None, 3, 5, 7]},\n",
        "    {'decision_tree__min_samples_split': [2, 5, 10]},\n",
        "    {'decision_tree__min_samples_leaf': [1, 2, 4]}\n",
        "]\n",
        "\n",
        "grid_search = GridSearchCV(\n",
        "    full_pipeline,\n",
        "    param_grid,\n",
        "    cv=3,\n",
        "    scoring='neg_root_mean_squared_error'\n",
        ")\n",
        "\n",
        "grid_search.fit(computer, computer_labels)"
      ],
      "metadata": {
        "colab": {
          "base_uri": "https://localhost:8080/",
          "height": 251
        },
        "id": "wd4-yokb4CY7",
        "outputId": "41a2b886-0dee-43b9-8210-933238650d90"
      },
      "execution_count": null,
      "outputs": [
        {
          "output_type": "execute_result",
          "data": {
            "text/plain": [
              "GridSearchCV(cv=3,\n",
              "             estimator=Pipeline(steps=[('preprocessing',\n",
              "                                        ColumnTransformer(transformers=[('num',\n",
              "                                                                         Pipeline(steps=[('simpleimputer',\n",
              "                                                                                          SimpleImputer(strategy='median')),\n",
              "                                                                                         ('standardscaler',\n",
              "                                                                                          StandardScaler())]),\n",
              "                                                                         ['Rating_Number',\n",
              "                                                                          'Votes_Number',\n",
              "                                                                          'Computer_Score',\n",
              "                                                                          'Group_Rank',\n",
              "                                                                          'Group_Rank_Size',\n",
              "                                                                          'Total_Rank',\n",
              "                                                                          'Total_Rank_Size']),\n",
              "                                                                        ('cat',\n",
              "                                                                         Pipeline(steps=[('simplei...\n",
              "                                                                          'Bus '\n",
              "                                                                          'Speed',\n",
              "                                                                          'Headphone '\n",
              "                                                                          'Jack',\n",
              "                                                                          'Battery',\n",
              "                                                                          'Dimensions',\n",
              "                                                                          'Ethernet',\n",
              "                                                                          'Model',\n",
              "                                                                          'Size',\n",
              "                                                                          'Sales '\n",
              "                                                                          'Package',\n",
              "                                                                          'PPI', ...])])),\n",
              "                                       ('decision_tree',\n",
              "                                        DecisionTreeRegressor(random_state=42))]),\n",
              "             param_grid=[{'decision_tree__max_depth': [None, 3, 5, 7]},\n",
              "                         {'decision_tree__min_samples_split': [2, 5, 10]},\n",
              "                         {'decision_tree__min_samples_leaf': [1, 2, 4]}],\n",
              "             scoring='neg_root_mean_squared_error')"
            ],
            "text/html": [
              "<style>#sk-container-id-4 {color: black;background-color: white;}#sk-container-id-4 pre{padding: 0;}#sk-container-id-4 div.sk-toggleable {background-color: white;}#sk-container-id-4 label.sk-toggleable__label {cursor: pointer;display: block;width: 100%;margin-bottom: 0;padding: 0.3em;box-sizing: border-box;text-align: center;}#sk-container-id-4 label.sk-toggleable__label-arrow:before {content: \"▸\";float: left;margin-right: 0.25em;color: #696969;}#sk-container-id-4 label.sk-toggleable__label-arrow:hover:before {color: black;}#sk-container-id-4 div.sk-estimator:hover label.sk-toggleable__label-arrow:before {color: black;}#sk-container-id-4 div.sk-toggleable__content {max-height: 0;max-width: 0;overflow: hidden;text-align: left;background-color: #f0f8ff;}#sk-container-id-4 div.sk-toggleable__content pre {margin: 0.2em;color: black;border-radius: 0.25em;background-color: #f0f8ff;}#sk-container-id-4 input.sk-toggleable__control:checked~div.sk-toggleable__content {max-height: 200px;max-width: 100%;overflow: auto;}#sk-container-id-4 input.sk-toggleable__control:checked~label.sk-toggleable__label-arrow:before {content: \"▾\";}#sk-container-id-4 div.sk-estimator input.sk-toggleable__control:checked~label.sk-toggleable__label {background-color: #d4ebff;}#sk-container-id-4 div.sk-label input.sk-toggleable__control:checked~label.sk-toggleable__label {background-color: #d4ebff;}#sk-container-id-4 input.sk-hidden--visually {border: 0;clip: rect(1px 1px 1px 1px);clip: rect(1px, 1px, 1px, 1px);height: 1px;margin: -1px;overflow: hidden;padding: 0;position: absolute;width: 1px;}#sk-container-id-4 div.sk-estimator {font-family: monospace;background-color: #f0f8ff;border: 1px dotted black;border-radius: 0.25em;box-sizing: border-box;margin-bottom: 0.5em;}#sk-container-id-4 div.sk-estimator:hover {background-color: #d4ebff;}#sk-container-id-4 div.sk-parallel-item::after {content: \"\";width: 100%;border-bottom: 1px solid gray;flex-grow: 1;}#sk-container-id-4 div.sk-label:hover label.sk-toggleable__label {background-color: #d4ebff;}#sk-container-id-4 div.sk-serial::before {content: \"\";position: absolute;border-left: 1px solid gray;box-sizing: border-box;top: 0;bottom: 0;left: 50%;z-index: 0;}#sk-container-id-4 div.sk-serial {display: flex;flex-direction: column;align-items: center;background-color: white;padding-right: 0.2em;padding-left: 0.2em;position: relative;}#sk-container-id-4 div.sk-item {position: relative;z-index: 1;}#sk-container-id-4 div.sk-parallel {display: flex;align-items: stretch;justify-content: center;background-color: white;position: relative;}#sk-container-id-4 div.sk-item::before, #sk-container-id-4 div.sk-parallel-item::before {content: \"\";position: absolute;border-left: 1px solid gray;box-sizing: border-box;top: 0;bottom: 0;left: 50%;z-index: -1;}#sk-container-id-4 div.sk-parallel-item {display: flex;flex-direction: column;z-index: 1;position: relative;background-color: white;}#sk-container-id-4 div.sk-parallel-item:first-child::after {align-self: flex-end;width: 50%;}#sk-container-id-4 div.sk-parallel-item:last-child::after {align-self: flex-start;width: 50%;}#sk-container-id-4 div.sk-parallel-item:only-child::after {width: 0;}#sk-container-id-4 div.sk-dashed-wrapped {border: 1px dashed gray;margin: 0 0.4em 0.5em 0.4em;box-sizing: border-box;padding-bottom: 0.4em;background-color: white;}#sk-container-id-4 div.sk-label label {font-family: monospace;font-weight: bold;display: inline-block;line-height: 1.2em;}#sk-container-id-4 div.sk-label-container {text-align: center;}#sk-container-id-4 div.sk-container {/* jupyter's `normalize.less` sets `[hidden] { display: none; }` but bootstrap.min.css set `[hidden] { display: none !important; }` so we also need the `!important` here to be able to override the default hidden behavior on the sphinx rendered scikit-learn.org. See: https://github.com/scikit-learn/scikit-learn/issues/21755 */display: inline-block !important;position: relative;}#sk-container-id-4 div.sk-text-repr-fallback {display: none;}</style><div id=\"sk-container-id-4\" class=\"sk-top-container\"><div class=\"sk-text-repr-fallback\"><pre>GridSearchCV(cv=3,\n",
              "             estimator=Pipeline(steps=[(&#x27;preprocessing&#x27;,\n",
              "                                        ColumnTransformer(transformers=[(&#x27;num&#x27;,\n",
              "                                                                         Pipeline(steps=[(&#x27;simpleimputer&#x27;,\n",
              "                                                                                          SimpleImputer(strategy=&#x27;median&#x27;)),\n",
              "                                                                                         (&#x27;standardscaler&#x27;,\n",
              "                                                                                          StandardScaler())]),\n",
              "                                                                         [&#x27;Rating_Number&#x27;,\n",
              "                                                                          &#x27;Votes_Number&#x27;,\n",
              "                                                                          &#x27;Computer_Score&#x27;,\n",
              "                                                                          &#x27;Group_Rank&#x27;,\n",
              "                                                                          &#x27;Group_Rank_Size&#x27;,\n",
              "                                                                          &#x27;Total_Rank&#x27;,\n",
              "                                                                          &#x27;Total_Rank_Size&#x27;]),\n",
              "                                                                        (&#x27;cat&#x27;,\n",
              "                                                                         Pipeline(steps=[(&#x27;simplei...\n",
              "                                                                          &#x27;Bus &#x27;\n",
              "                                                                          &#x27;Speed&#x27;,\n",
              "                                                                          &#x27;Headphone &#x27;\n",
              "                                                                          &#x27;Jack&#x27;,\n",
              "                                                                          &#x27;Battery&#x27;,\n",
              "                                                                          &#x27;Dimensions&#x27;,\n",
              "                                                                          &#x27;Ethernet&#x27;,\n",
              "                                                                          &#x27;Model&#x27;,\n",
              "                                                                          &#x27;Size&#x27;,\n",
              "                                                                          &#x27;Sales &#x27;\n",
              "                                                                          &#x27;Package&#x27;,\n",
              "                                                                          &#x27;PPI&#x27;, ...])])),\n",
              "                                       (&#x27;decision_tree&#x27;,\n",
              "                                        DecisionTreeRegressor(random_state=42))]),\n",
              "             param_grid=[{&#x27;decision_tree__max_depth&#x27;: [None, 3, 5, 7]},\n",
              "                         {&#x27;decision_tree__min_samples_split&#x27;: [2, 5, 10]},\n",
              "                         {&#x27;decision_tree__min_samples_leaf&#x27;: [1, 2, 4]}],\n",
              "             scoring=&#x27;neg_root_mean_squared_error&#x27;)</pre><b>In a Jupyter environment, please rerun this cell to show the HTML representation or trust the notebook. <br />On GitHub, the HTML representation is unable to render, please try loading this page with nbviewer.org.</b></div><div class=\"sk-container\" hidden><div class=\"sk-item sk-dashed-wrapped\"><div class=\"sk-label-container\"><div class=\"sk-label sk-toggleable\"><input class=\"sk-toggleable__control sk-hidden--visually\" id=\"sk-estimator-id-20\" type=\"checkbox\" ><label for=\"sk-estimator-id-20\" class=\"sk-toggleable__label sk-toggleable__label-arrow\">GridSearchCV</label><div class=\"sk-toggleable__content\"><pre>GridSearchCV(cv=3,\n",
              "             estimator=Pipeline(steps=[(&#x27;preprocessing&#x27;,\n",
              "                                        ColumnTransformer(transformers=[(&#x27;num&#x27;,\n",
              "                                                                         Pipeline(steps=[(&#x27;simpleimputer&#x27;,\n",
              "                                                                                          SimpleImputer(strategy=&#x27;median&#x27;)),\n",
              "                                                                                         (&#x27;standardscaler&#x27;,\n",
              "                                                                                          StandardScaler())]),\n",
              "                                                                         [&#x27;Rating_Number&#x27;,\n",
              "                                                                          &#x27;Votes_Number&#x27;,\n",
              "                                                                          &#x27;Computer_Score&#x27;,\n",
              "                                                                          &#x27;Group_Rank&#x27;,\n",
              "                                                                          &#x27;Group_Rank_Size&#x27;,\n",
              "                                                                          &#x27;Total_Rank&#x27;,\n",
              "                                                                          &#x27;Total_Rank_Size&#x27;]),\n",
              "                                                                        (&#x27;cat&#x27;,\n",
              "                                                                         Pipeline(steps=[(&#x27;simplei...\n",
              "                                                                          &#x27;Bus &#x27;\n",
              "                                                                          &#x27;Speed&#x27;,\n",
              "                                                                          &#x27;Headphone &#x27;\n",
              "                                                                          &#x27;Jack&#x27;,\n",
              "                                                                          &#x27;Battery&#x27;,\n",
              "                                                                          &#x27;Dimensions&#x27;,\n",
              "                                                                          &#x27;Ethernet&#x27;,\n",
              "                                                                          &#x27;Model&#x27;,\n",
              "                                                                          &#x27;Size&#x27;,\n",
              "                                                                          &#x27;Sales &#x27;\n",
              "                                                                          &#x27;Package&#x27;,\n",
              "                                                                          &#x27;PPI&#x27;, ...])])),\n",
              "                                       (&#x27;decision_tree&#x27;,\n",
              "                                        DecisionTreeRegressor(random_state=42))]),\n",
              "             param_grid=[{&#x27;decision_tree__max_depth&#x27;: [None, 3, 5, 7]},\n",
              "                         {&#x27;decision_tree__min_samples_split&#x27;: [2, 5, 10]},\n",
              "                         {&#x27;decision_tree__min_samples_leaf&#x27;: [1, 2, 4]}],\n",
              "             scoring=&#x27;neg_root_mean_squared_error&#x27;)</pre></div></div></div><div class=\"sk-parallel\"><div class=\"sk-parallel-item\"><div class=\"sk-item\"><div class=\"sk-label-container\"><div class=\"sk-label sk-toggleable\"><input class=\"sk-toggleable__control sk-hidden--visually\" id=\"sk-estimator-id-21\" type=\"checkbox\" ><label for=\"sk-estimator-id-21\" class=\"sk-toggleable__label sk-toggleable__label-arrow\">estimator: Pipeline</label><div class=\"sk-toggleable__content\"><pre>Pipeline(steps=[(&#x27;preprocessing&#x27;,\n",
              "                 ColumnTransformer(transformers=[(&#x27;num&#x27;,\n",
              "                                                  Pipeline(steps=[(&#x27;simpleimputer&#x27;,\n",
              "                                                                   SimpleImputer(strategy=&#x27;median&#x27;)),\n",
              "                                                                  (&#x27;standardscaler&#x27;,\n",
              "                                                                   StandardScaler())]),\n",
              "                                                  [&#x27;Rating_Number&#x27;,\n",
              "                                                   &#x27;Votes_Number&#x27;,\n",
              "                                                   &#x27;Computer_Score&#x27;,\n",
              "                                                   &#x27;Group_Rank&#x27;,\n",
              "                                                   &#x27;Group_Rank_Size&#x27;,\n",
              "                                                   &#x27;Total_Rank&#x27;,\n",
              "                                                   &#x27;Total_Rank_Size&#x27;]),\n",
              "                                                 (&#x27;cat&#x27;,\n",
              "                                                  Pipeline(steps=[(&#x27;simpleimputer&#x27;,\n",
              "                                                                   SimpleImputer(strate...\n",
              "                                                   &#x27;Microphone In&#x27;,\n",
              "                                                   &#x27;Process Node&#x27;, &#x27;USB Ports&#x27;,\n",
              "                                                   &#x27;RAM&#x27;, &#x27;SSD Interface&#x27;,\n",
              "                                                   &#x27;Touch&#x27;, &#x27;Anti Glare Screen&#x27;,\n",
              "                                                   &#x27;Speed&#x27;, &#x27;Cores&#x27;, &#x27;Cache&#x27;,\n",
              "                                                   &#x27;Inbuilt Microphone&#x27;,\n",
              "                                                   &#x27;Utility&#x27;, &#x27;OS&#x27;,\n",
              "                                                   &#x27;Keyboard Backlit&#x27;,\n",
              "                                                   &#x27;Optical Drive&#x27;,\n",
              "                                                   &#x27;Resolution&#x27;,\n",
              "                                                   &#x27;RAM Bus Speed&#x27;,\n",
              "                                                   &#x27;Headphone Jack&#x27;, &#x27;Battery&#x27;,\n",
              "                                                   &#x27;Dimensions&#x27;, &#x27;Ethernet&#x27;,\n",
              "                                                   &#x27;Model&#x27;, &#x27;Size&#x27;,\n",
              "                                                   &#x27;Sales Package&#x27;, &#x27;PPI&#x27;, ...])])),\n",
              "                (&#x27;decision_tree&#x27;, DecisionTreeRegressor(random_state=42))])</pre></div></div></div><div class=\"sk-serial\"><div class=\"sk-item\"><div class=\"sk-serial\"><div class=\"sk-item sk-dashed-wrapped\"><div class=\"sk-label-container\"><div class=\"sk-label sk-toggleable\"><input class=\"sk-toggleable__control sk-hidden--visually\" id=\"sk-estimator-id-22\" type=\"checkbox\" ><label for=\"sk-estimator-id-22\" class=\"sk-toggleable__label sk-toggleable__label-arrow\">preprocessing: ColumnTransformer</label><div class=\"sk-toggleable__content\"><pre>ColumnTransformer(transformers=[(&#x27;num&#x27;,\n",
              "                                 Pipeline(steps=[(&#x27;simpleimputer&#x27;,\n",
              "                                                  SimpleImputer(strategy=&#x27;median&#x27;)),\n",
              "                                                 (&#x27;standardscaler&#x27;,\n",
              "                                                  StandardScaler())]),\n",
              "                                 [&#x27;Rating_Number&#x27;, &#x27;Votes_Number&#x27;,\n",
              "                                  &#x27;Computer_Score&#x27;, &#x27;Group_Rank&#x27;,\n",
              "                                  &#x27;Group_Rank_Size&#x27;, &#x27;Total_Rank&#x27;,\n",
              "                                  &#x27;Total_Rank_Size&#x27;]),\n",
              "                                (&#x27;cat&#x27;,\n",
              "                                 Pipeline(steps=[(&#x27;simpleimputer&#x27;,\n",
              "                                                  SimpleImputer(strategy=&#x27;most_frequent&#x27;)),\n",
              "                                                 (&#x27;onehotenco...\n",
              "                                 [&#x27;HDMI&#x27;, &#x27;Keyboard&#x27;, &#x27;Generation&#x27;, &#x27;GPU&#x27;,\n",
              "                                  &#x27;Solid State Drive&#x27;, &#x27;Microphone In&#x27;,\n",
              "                                  &#x27;Process Node&#x27;, &#x27;USB Ports&#x27;, &#x27;RAM&#x27;,\n",
              "                                  &#x27;SSD Interface&#x27;, &#x27;Touch&#x27;, &#x27;Anti Glare Screen&#x27;,\n",
              "                                  &#x27;Speed&#x27;, &#x27;Cores&#x27;, &#x27;Cache&#x27;,\n",
              "                                  &#x27;Inbuilt Microphone&#x27;, &#x27;Utility&#x27;, &#x27;OS&#x27;,\n",
              "                                  &#x27;Keyboard Backlit&#x27;, &#x27;Optical Drive&#x27;,\n",
              "                                  &#x27;Resolution&#x27;, &#x27;RAM Bus Speed&#x27;,\n",
              "                                  &#x27;Headphone Jack&#x27;, &#x27;Battery&#x27;, &#x27;Dimensions&#x27;,\n",
              "                                  &#x27;Ethernet&#x27;, &#x27;Model&#x27;, &#x27;Size&#x27;, &#x27;Sales Package&#x27;,\n",
              "                                  &#x27;PPI&#x27;, ...])])</pre></div></div></div><div class=\"sk-parallel\"><div class=\"sk-parallel-item\"><div class=\"sk-item\"><div class=\"sk-label-container\"><div class=\"sk-label sk-toggleable\"><input class=\"sk-toggleable__control sk-hidden--visually\" id=\"sk-estimator-id-23\" type=\"checkbox\" ><label for=\"sk-estimator-id-23\" class=\"sk-toggleable__label sk-toggleable__label-arrow\">num</label><div class=\"sk-toggleable__content\"><pre>[&#x27;Rating_Number&#x27;, &#x27;Votes_Number&#x27;, &#x27;Computer_Score&#x27;, &#x27;Group_Rank&#x27;, &#x27;Group_Rank_Size&#x27;, &#x27;Total_Rank&#x27;, &#x27;Total_Rank_Size&#x27;]</pre></div></div></div><div class=\"sk-serial\"><div class=\"sk-item\"><div class=\"sk-serial\"><div class=\"sk-item\"><div class=\"sk-estimator sk-toggleable\"><input class=\"sk-toggleable__control sk-hidden--visually\" id=\"sk-estimator-id-24\" type=\"checkbox\" ><label for=\"sk-estimator-id-24\" class=\"sk-toggleable__label sk-toggleable__label-arrow\">SimpleImputer</label><div class=\"sk-toggleable__content\"><pre>SimpleImputer(strategy=&#x27;median&#x27;)</pre></div></div></div><div class=\"sk-item\"><div class=\"sk-estimator sk-toggleable\"><input class=\"sk-toggleable__control sk-hidden--visually\" id=\"sk-estimator-id-25\" type=\"checkbox\" ><label for=\"sk-estimator-id-25\" class=\"sk-toggleable__label sk-toggleable__label-arrow\">StandardScaler</label><div class=\"sk-toggleable__content\"><pre>StandardScaler()</pre></div></div></div></div></div></div></div></div><div class=\"sk-parallel-item\"><div class=\"sk-item\"><div class=\"sk-label-container\"><div class=\"sk-label sk-toggleable\"><input class=\"sk-toggleable__control sk-hidden--visually\" id=\"sk-estimator-id-26\" type=\"checkbox\" ><label for=\"sk-estimator-id-26\" class=\"sk-toggleable__label sk-toggleable__label-arrow\">cat</label><div class=\"sk-toggleable__content\"><pre>[&#x27;HDMI&#x27;, &#x27;Keyboard&#x27;, &#x27;Generation&#x27;, &#x27;GPU&#x27;, &#x27;Solid State Drive&#x27;, &#x27;Microphone In&#x27;, &#x27;Process Node&#x27;, &#x27;USB Ports&#x27;, &#x27;RAM&#x27;, &#x27;SSD Interface&#x27;, &#x27;Touch&#x27;, &#x27;Anti Glare Screen&#x27;, &#x27;Speed&#x27;, &#x27;Cores&#x27;, &#x27;Cache&#x27;, &#x27;Inbuilt Microphone&#x27;, &#x27;Utility&#x27;, &#x27;OS&#x27;, &#x27;Keyboard Backlit&#x27;, &#x27;Optical Drive&#x27;, &#x27;Resolution&#x27;, &#x27;RAM Bus Speed&#x27;, &#x27;Headphone Jack&#x27;, &#x27;Battery&#x27;, &#x27;Dimensions&#x27;, &#x27;Ethernet&#x27;, &#x27;Model&#x27;, &#x27;Size&#x27;, &#x27;Sales Package&#x27;, &#x27;PPI&#x27;, &#x27;Speakers&#x27;, &#x27;Camera&#x27;, &#x27;WiFi&#x27;, &#x27;Brand&#x27;, &#x27;Series&#x27;, &#x27;Battery Details&#x27;, &#x27;Type&#x27;, &#x27;Touchpad&#x27;, &#x27;Warranty&#x27;, &#x27;Features&#x27;, &#x27;Security Lock Port&#x27;, &#x27;Processor&#x27;, &#x27;Adapter Type&#x27;, &#x27;Bluetooth&#x27;, &#x27;Weight&#x27;, &#x27;Device Type&#x27;]</pre></div></div></div><div class=\"sk-serial\"><div class=\"sk-item\"><div class=\"sk-serial\"><div class=\"sk-item\"><div class=\"sk-estimator sk-toggleable\"><input class=\"sk-toggleable__control sk-hidden--visually\" id=\"sk-estimator-id-27\" type=\"checkbox\" ><label for=\"sk-estimator-id-27\" class=\"sk-toggleable__label sk-toggleable__label-arrow\">SimpleImputer</label><div class=\"sk-toggleable__content\"><pre>SimpleImputer(strategy=&#x27;most_frequent&#x27;)</pre></div></div></div><div class=\"sk-item\"><div class=\"sk-estimator sk-toggleable\"><input class=\"sk-toggleable__control sk-hidden--visually\" id=\"sk-estimator-id-28\" type=\"checkbox\" ><label for=\"sk-estimator-id-28\" class=\"sk-toggleable__label sk-toggleable__label-arrow\">OneHotEncoder</label><div class=\"sk-toggleable__content\"><pre>OneHotEncoder(handle_unknown=&#x27;ignore&#x27;, sparse=False)</pre></div></div></div></div></div></div></div></div></div></div><div class=\"sk-item\"><div class=\"sk-estimator sk-toggleable\"><input class=\"sk-toggleable__control sk-hidden--visually\" id=\"sk-estimator-id-29\" type=\"checkbox\" ><label for=\"sk-estimator-id-29\" class=\"sk-toggleable__label sk-toggleable__label-arrow\">DecisionTreeRegressor</label><div class=\"sk-toggleable__content\"><pre>DecisionTreeRegressor(random_state=42)</pre></div></div></div></div></div></div></div></div></div></div></div></div>"
            ]
          },
          "metadata": {},
          "execution_count": 19
        }
      ]
    },
    {
      "cell_type": "markdown",
      "source": [
        "The code above performs a grid search with a decision tree regressor model using scikit-learn's `Pipeline` and `GridSearchCV`. It creates a pipeline that consists of preprocessing steps and a decision tree regressor. The grid search explores different combinations of hyperparameters for the decision tree regressor, such as maximum depth, minimum samples split, and minimum samples leaf. The grid search evaluates the model's performance using cross-validation and a scoring metric. Finally, the grid search is fitted to the input data and target labels, enabling the identification of the best model and its corresponding hyperparameters."
      ],
      "metadata": {
        "id": "giq800d2CDwD"
      }
    },
    {
      "cell_type": "code",
      "source": [
        "grid_search.best_params_"
      ],
      "metadata": {
        "colab": {
          "base_uri": "https://localhost:8080/"
        },
        "id": "b6_M2hCm-SG0",
        "outputId": "132eb19a-d69c-4b0f-d05b-59409dfa6cf5"
      },
      "execution_count": null,
      "outputs": [
        {
          "output_type": "execute_result",
          "data": {
            "text/plain": [
              "{'decision_tree__min_samples_leaf': 2}"
            ]
          },
          "metadata": {},
          "execution_count": 20
        }
      ]
    },
    {
      "cell_type": "markdown",
      "source": [
        "Here we find the best parameters of **Decsion Tree Regression**"
      ],
      "metadata": {
        "id": "Xg_gkWpFCK3M"
      }
    },
    {
      "cell_type": "markdown",
      "source": [
        "**The Accuracy of Refined Decision Tree Regression:**"
      ],
      "metadata": {
        "id": "UW-JtA1g6Uvw"
      }
    },
    {
      "cell_type": "code",
      "source": [
        "best_decision_tree = grid_search.best_estimator_\n",
        "tree_predictions_new = best_decision_tree.predict(test_data)\n",
        "tree_rmse_new = mean_squared_error(test_labels,tree_predictions_new,squared=False)\n",
        "tree_rmse_new"
      ],
      "metadata": {
        "colab": {
          "base_uri": "https://localhost:8080/"
        },
        "id": "FwnzNCIiHQti",
        "outputId": "651df40b-e776-40b8-fc2b-849aabc6a03f"
      },
      "execution_count": null,
      "outputs": [
        {
          "output_type": "execute_result",
          "data": {
            "text/plain": [
              "1894.657027472717"
            ]
          },
          "metadata": {},
          "execution_count": 21
        }
      ]
    },
    {
      "cell_type": "markdown",
      "source": [
        "Finally we used best parameters in new **Decision Tree Regression model** to do the prediction, but the **RMSE** still higher than **Linear Regression** model."
      ],
      "metadata": {
        "id": "KY2tjtwDCYU0"
      }
    },
    {
      "cell_type": "markdown",
      "source": [
        "**PCA:**\n",
        "\n",
        "**PCA** is an unspervised learning model, and dimensionality reduction technique used to transform high-dimensional data into a lower-dimensional representation while retaining the most important information or patterns in the data.\n",
        "\n",
        "The mathematical principles of **PCA** is:\n",
        "\n",
        "**1.Calculate Data Standardization:** `X_std = (X - X.mean(axis=0)) / X.std(axis=0)`\n",
        "\n",
        "**2.Calculate Covariance Matrix:** `C = np.cov(X_std.T)`\n",
        "\n",
        "**3.Find the Egienvalues and Egienvectors of C:** `eigenvalues, eigenvectors = np.linalg.eig(C)`\n",
        "\n",
        "**4.Selection of Principal Components:** `top_k_indices = np.argsort(eigenvalues)[::-1][:k]` `W = eigenvectors[:, top_k_indices]`\n",
        "\n",
        "**5.Data Projection:** `Y = np.dot(X_std, W)`\n",
        "\n",
        "Basicly, what PCA do is to calculate the covariance matrix of data after standarization. Then find the egienvalues and egienvectors of covariance matrix, then rebuild lower dimension dataset.\n",
        "\n",
        "\n",
        "\n",
        "\n",
        "\n",
        "\n",
        "\n",
        "\n",
        "\n"
      ],
      "metadata": {
        "id": "qIcvWWxN5jEX"
      }
    },
    {
      "cell_type": "code",
      "source": [
        "from sklearn.decomposition import PCA\n",
        "from sklearn.preprocessing import StandardScaler\n",
        "\n",
        "# Standardized data\n",
        "computer_prepared = preprocessing.fit_transform(computer)\n",
        "scaler = StandardScaler()\n",
        "computer_scaled = scaler.fit_transform(computer_prepared)\n",
        "\n",
        "n_components = 2\n",
        "pca = PCA(n_components=n_components)\n",
        "\n",
        "# Do PCA\n",
        "computer_pca = pca.fit_transform(computer_scaled)\n",
        "\n",
        "# View the proportion of explained variance\n",
        "explained_variance_ratio = pca.explained_variance_ratio_\n",
        "print(\"Explaining the proportion of variance：\", explained_variance_ratio)\n",
        "\n",
        "# View the variance of the principal components\n",
        "components_variance = pca.explained_variance_\n",
        "print(\"Variance of principal components：\", components_variance)\n",
        "\n",
        "#View the dataset after do the PCA\n",
        "print(\"dataset after PCA：\", computer_pca)"
      ],
      "metadata": {
        "colab": {
          "base_uri": "https://localhost:8080/"
        },
        "id": "v-yYf65zH6aJ",
        "outputId": "97c3d2f0-65e9-4b34-f0f3-5a85a39c3b8d"
      },
      "execution_count": null,
      "outputs": [
        {
          "output_type": "stream",
          "name": "stdout",
          "text": [
            "Explaining the proportion of variance： [0.0028486  0.00277231]\n",
            "Variance of principal components： [22.36303641 21.76408547]\n",
            "dataset after PCA： [[ 4.52900251 -0.79670759]\n",
            " [-2.56186308 -1.29085492]\n",
            " [ 2.48860945 -0.4238146 ]\n",
            " ...\n",
            " [ 1.54289363 -0.20875797]\n",
            " [-4.32955156 -1.3582883 ]\n",
            " [ 1.24038104 -0.22808352]]\n"
          ]
        }
      ]
    },
    {
      "cell_type": "markdown",
      "source": [
        "`computer_prepared = preprocessing.fit_transform(computer)`\n",
        "\n",
        " `scaler = StandardScaler()`\n",
        "\n",
        "`computer_scaled = scaler.fit_transform(computer_prepared)`\n",
        "\n",
        "These three codes is to use proprocessing we defined before to preprocess dataset get ready for doing PCA"
      ],
      "metadata": {
        "id": "rDhaP0py_VFU"
      }
    },
    {
      "cell_type": "markdown",
      "source": [
        "Create PCA objects and specify the number of principal components to be retained, assume we need two-dimensional data by `n_components = 2`and\n",
        "`pca = PCA(n_components=n_components)`"
      ],
      "metadata": {
        "id": "9lrD2fu3AAcm"
      }
    },
    {
      "cell_type": "markdown",
      "source": [
        "Now do the PCA `computer_pca = pca.fit_transform(computer_scaled)` and get the dataset after doing PCA `computer_pca`"
      ],
      "metadata": {
        "id": "7GlwDDdpATYB"
      }
    },
    {
      "cell_type": "code",
      "source": [
        "# Standardize the PCA-reduced data\n",
        "df_computer_pca = pd.DataFrame(computer_pca)\n",
        "scaler = StandardScaler()\n",
        "computer_pca_scaled = scaler.fit_transform(df_computer_pca)\n",
        "\n",
        "#Reclassification after PCA\n",
        "train_data_pca,test_data_pca,train_labels,test_labels = train_test_split(computer_pca_scaled, computer_labels, test_size=0.2, random_state=42)\n",
        "\n"
      ],
      "metadata": {
        "id": "3ouEn3DrKdxp"
      },
      "execution_count": null,
      "outputs": []
    },
    {
      "cell_type": "markdown",
      "source": [
        "Because we get a new dataset, we need to standard and scale it, also we need to reclassify the training set and testset."
      ],
      "metadata": {
        "id": "ZYIkECnLAuPb"
      }
    },
    {
      "cell_type": "markdown",
      "source": [
        "**Linear Regression After PCA:**\n",
        "\n",
        "Now we decide to varify the performance of linear regreesion on the dataset after doing PCA"
      ],
      "metadata": {
        "id": "vjVE5tUf5mld"
      }
    },
    {
      "cell_type": "code",
      "source": [
        "# Create the linear regression model\n",
        "lin_reg_pca = LinearRegression()\n",
        "\n",
        "# Fit the linear regression model\n",
        "lin_reg_pca.fit(train_data_pca, train_labels)\n",
        "\n",
        "# Make predictions\n",
        "lin_predictions_pca = lin_reg_pca.predict(test_data_pca)"
      ],
      "metadata": {
        "id": "4QugxysGMMeJ"
      },
      "execution_count": null,
      "outputs": []
    },
    {
      "cell_type": "code",
      "source": [
        "#Calculate the rmse of linear regression after PCA\n",
        "lin_rmse_pca = mean_squared_error(test_labels, lin_predictions_pca, squared=False)\n",
        "lin_rmse_pca"
      ],
      "metadata": {
        "colab": {
          "base_uri": "https://localhost:8080/"
        },
        "id": "Ya-Xq8t9RgxW",
        "outputId": "8708f8e4-5d13-4ced-da4c-b51307e53d4f"
      },
      "execution_count": null,
      "outputs": [
        {
          "output_type": "execute_result",
          "data": {
            "text/plain": [
              "56049.100302730054"
            ]
          },
          "metadata": {},
          "execution_count": 25
        }
      ]
    },
    {
      "cell_type": "markdown",
      "source": [
        "From the outcome we can see that the **RMSE** of **Linear Regression** is higher than before and higher than refined **Decision Tree Regression** model."
      ],
      "metadata": {
        "id": "2gM3EXDpBi1R"
      }
    },
    {
      "cell_type": "markdown",
      "source": [
        "\n",
        "\n",
        "```\n",
        "# This is formatted as code\n",
        "```\n",
        "\n",
        "##Section 5: Conclusion and Prospecting.\n",
        "\n"
      ],
      "metadata": {
        "id": "IrmYycj75EQJ"
      }
    },
    {
      "cell_type": "markdown",
      "source": [
        "**Conclusion:**\n",
        "- Comparison of linear regression and decision tree regression:\n",
        "Although linear regression and decision tree regression are both used for regression tasks but have different characteristics. Linear regression provides interpretability through coefficients representing feature-target relationships, assuming linearity. Decision tree regression can capture non-linear relationships without explicit feature engineering. In our project, due to we have prepared well before training, like we make our daset clean and complete. In this situation linear regression requires perform better than decision tree regression, even we set the best parameters after doing grid search for decision tree.\n",
        "\n",
        "- Comparison of linear regression and linear regressionc after doing PCA: Using linear regression with PCA allows for dimensionality reduction and helps address collinearity among features. It may improve model performance when dealing with high-dimensional datasets. However, in our project, linear regression performed after PCA result in worse performance compared to using linear regression directly. This can occur due to the loss of information during the dimensionality reduction process, reduced interpretability as the original features are replaced by principal components, and the potential amplification of noise. So the impact of PCA on performance should be carefully assessed."
      ],
      "metadata": {
        "id": "lKRVBm1d5f9R"
      }
    },
    {
      "cell_type": "markdown",
      "source": [
        "**Prospect:**\n",
        "\n",
        "For our project, I would like to show that linear regression does not perform as well as it should after PCA reduces the dimensionality of the data. This may be related to what we did when preprocessing the data, and we may not have processed the data corresponding to the characteristics of PCA. For example, we did not whiten the data before PCA, but just did the same preprocessing operation as before and then performed PCA, so this may be the reason why linear regression does not perform well after PCA. We had thought that linear regression would perform worse after PCA, but now the gap is a little bit bigger."
      ],
      "metadata": {
        "id": "b2YVHiqs95TO"
      }
    }
  ]
}